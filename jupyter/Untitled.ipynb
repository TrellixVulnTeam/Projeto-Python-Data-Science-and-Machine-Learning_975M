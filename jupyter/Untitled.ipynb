{
 "cells": [
  {
   "cell_type": "code",
   "execution_count": 12,
   "id": "eb6f622e",
   "metadata": {},
   "outputs": [],
   "source": [
    "import numpy as np\n",
    "import pandas as pd"
   ]
  },
  {
   "cell_type": "code",
   "execution_count": 13,
   "id": "ff3cd21d",
   "metadata": {},
   "outputs": [
    {
     "data": {
      "text/html": [
       "<div>\n",
       "<style scoped>\n",
       "    .dataframe tbody tr th:only-of-type {\n",
       "        vertical-align: middle;\n",
       "    }\n",
       "\n",
       "    .dataframe tbody tr th {\n",
       "        vertical-align: top;\n",
       "    }\n",
       "\n",
       "    .dataframe thead th {\n",
       "        text-align: right;\n",
       "    }\n",
       "</style>\n",
       "<table border=\"1\" class=\"dataframe\">\n",
       "  <thead>\n",
       "    <tr style=\"text-align: right;\">\n",
       "      <th></th>\n",
       "      <th>Cruzeiro</th>\n",
       "      <th>Atletico</th>\n",
       "      <th>America</th>\n",
       "    </tr>\n",
       "  </thead>\n",
       "  <tbody>\n",
       "    <tr>\n",
       "      <th>Gols</th>\n",
       "      <td>7</td>\n",
       "      <td>3</td>\n",
       "      <td>1</td>\n",
       "    </tr>\n",
       "    <tr>\n",
       "      <th>Vitorias</th>\n",
       "      <td>4</td>\n",
       "      <td>4</td>\n",
       "      <td>3</td>\n",
       "    </tr>\n",
       "  </tbody>\n",
       "</table>\n",
       "</div>"
      ],
      "text/plain": [
       "          Cruzeiro  Atletico  America\n",
       "Gols             7         3        1\n",
       "Vitorias         4         4        3"
      ]
     },
     "execution_count": 13,
     "metadata": {},
     "output_type": "execute_result"
    }
   ],
   "source": [
    "#df = pd.DataFrame([['a','b','c'], [1,2,3]])\n",
    "#df = pd.DataFrame({'a':[1,2,3],'b':[5,6,7]})\n",
    "#df = pd.DataFrame(np.random.randn(3,2))\n",
    "df = pd.DataFrame(np.random.randint(1,10,6) .reshape (2,3), columns=['Cruzeiro', 'Atletico','America'],\n",
    "                 index=['Gols','Vitorias'])\n",
    "df"
   ]
  },
  {
   "cell_type": "markdown",
   "id": "c843d29f",
   "metadata": {},
   "source": [
    "**Selecão de dados**"
   ]
  },
  {
   "cell_type": "code",
   "execution_count": 14,
   "id": "24b96d77",
   "metadata": {},
   "outputs": [
    {
     "data": {
      "text/plain": [
       "pandas.core.series.Series"
      ]
     },
     "execution_count": 14,
     "metadata": {},
     "output_type": "execute_result"
    }
   ],
   "source": [
    "type(df['Atletico'])"
   ]
  },
  {
   "cell_type": "code",
   "execution_count": 23,
   "id": "34520075",
   "metadata": {},
   "outputs": [
    {
     "data": {
      "text/plain": [
       "2"
      ]
     },
     "execution_count": 23,
     "metadata": {},
     "output_type": "execute_result"
    }
   ],
   "source": [
    "df['Cruzeiro']['Vitorias']"
   ]
  },
  {
   "cell_type": "code",
   "execution_count": 25,
   "id": "7591c750",
   "metadata": {},
   "outputs": [
    {
     "data": {
      "text/plain": [
       "Gols        4\n",
       "Vitorias    2\n",
       "Name: Cruzeiro, dtype: int32"
      ]
     },
     "execution_count": 25,
     "metadata": {},
     "output_type": "execute_result"
    }
   ],
   "source": [
    "df.Cruzeiro"
   ]
  },
  {
   "cell_type": "code",
   "execution_count": 6,
   "id": "9a026a3e",
   "metadata": {},
   "outputs": [
    {
     "ename": "NameError",
     "evalue": "name 'df' is not defined",
     "output_type": "error",
     "traceback": [
      "\u001b[1;31m---------------------------------------------------------------------------\u001b[0m",
      "\u001b[1;31mNameError\u001b[0m                                 Traceback (most recent call last)",
      "\u001b[1;32mC:\\Users\\HELIO~1.GAL\\AppData\\Local\\Temp/ipykernel_2100/1396537375.py\u001b[0m in \u001b[0;36m<module>\u001b[1;34m\u001b[0m\n\u001b[1;32m----> 1\u001b[1;33m \u001b[0mdf\u001b[0m\u001b[1;33m\u001b[0m\u001b[1;33m\u001b[0m\u001b[0m\n\u001b[0m",
      "\u001b[1;31mNameError\u001b[0m: name 'df' is not defined"
     ]
    }
   ],
   "source": [
    "df"
   ]
  },
  {
   "cell_type": "code",
   "execution_count": 27,
   "id": "181f1602",
   "metadata": {},
   "outputs": [
    {
     "data": {
      "text/plain": [
       "Cruzeiro    2\n",
       "Atletico    5\n",
       "America     6\n",
       "Name: Vitorias, dtype: int32"
      ]
     },
     "execution_count": 27,
     "metadata": {},
     "output_type": "execute_result"
    }
   ],
   "source": [
    "df.loc['Vitorias']"
   ]
  },
  {
   "cell_type": "code",
   "execution_count": 28,
   "id": "aa656560",
   "metadata": {},
   "outputs": [
    {
     "data": {
      "text/html": [
       "<div>\n",
       "<style scoped>\n",
       "    .dataframe tbody tr th:only-of-type {\n",
       "        vertical-align: middle;\n",
       "    }\n",
       "\n",
       "    .dataframe tbody tr th {\n",
       "        vertical-align: top;\n",
       "    }\n",
       "\n",
       "    .dataframe thead th {\n",
       "        text-align: right;\n",
       "    }\n",
       "</style>\n",
       "<table border=\"1\" class=\"dataframe\">\n",
       "  <thead>\n",
       "    <tr style=\"text-align: right;\">\n",
       "      <th></th>\n",
       "      <th>Atletico</th>\n",
       "      <th>America</th>\n",
       "    </tr>\n",
       "  </thead>\n",
       "  <tbody>\n",
       "    <tr>\n",
       "      <th>Vitorias</th>\n",
       "      <td>5</td>\n",
       "      <td>6</td>\n",
       "    </tr>\n",
       "  </tbody>\n",
       "</table>\n",
       "</div>"
      ],
      "text/plain": [
       "          Atletico  America\n",
       "Vitorias         5        6"
      ]
     },
     "execution_count": 28,
     "metadata": {},
     "output_type": "execute_result"
    }
   ],
   "source": [
    "df.loc[['Vitorias'],['Atletico','America']]"
   ]
  },
  {
   "cell_type": "code",
   "execution_count": 29,
   "id": "b6178f8b",
   "metadata": {},
   "outputs": [
    {
     "data": {
      "text/plain": [
       "Cruzeiro    2\n",
       "Atletico    5\n",
       "America     6\n",
       "Name: Vitorias, dtype: int32"
      ]
     },
     "execution_count": 29,
     "metadata": {},
     "output_type": "execute_result"
    }
   ],
   "source": [
    "df.iloc[1]"
   ]
  },
  {
   "cell_type": "code",
   "execution_count": 30,
   "id": "f37fd2da",
   "metadata": {},
   "outputs": [
    {
     "data": {
      "text/plain": [
       "Atletico    3\n",
       "America     6\n",
       "Name: Gols, dtype: int32"
      ]
     },
     "execution_count": 30,
     "metadata": {},
     "output_type": "execute_result"
    }
   ],
   "source": [
    "df.iloc[0,1:3]"
   ]
  },
  {
   "cell_type": "markdown",
   "id": "0fa4da16",
   "metadata": {},
   "source": [
    "**Adição e Remoção de Linhas e Colunas no DataFrame**"
   ]
  },
  {
   "cell_type": "code",
   "execution_count": 14,
   "id": "72f760f8",
   "metadata": {},
   "outputs": [
    {
     "data": {
      "text/html": [
       "<div>\n",
       "<style scoped>\n",
       "    .dataframe tbody tr th:only-of-type {\n",
       "        vertical-align: middle;\n",
       "    }\n",
       "\n",
       "    .dataframe tbody tr th {\n",
       "        vertical-align: top;\n",
       "    }\n",
       "\n",
       "    .dataframe thead th {\n",
       "        text-align: right;\n",
       "    }\n",
       "</style>\n",
       "<table border=\"1\" class=\"dataframe\">\n",
       "  <thead>\n",
       "    <tr style=\"text-align: right;\">\n",
       "      <th></th>\n",
       "      <th>Cruzeiro</th>\n",
       "      <th>Atletico</th>\n",
       "      <th>America</th>\n",
       "    </tr>\n",
       "  </thead>\n",
       "  <tbody>\n",
       "    <tr>\n",
       "      <th>Gols</th>\n",
       "      <td>7</td>\n",
       "      <td>3</td>\n",
       "      <td>1</td>\n",
       "    </tr>\n",
       "    <tr>\n",
       "      <th>Vitorias</th>\n",
       "      <td>4</td>\n",
       "      <td>4</td>\n",
       "      <td>3</td>\n",
       "    </tr>\n",
       "  </tbody>\n",
       "</table>\n",
       "</div>"
      ],
      "text/plain": [
       "          Cruzeiro  Atletico  America\n",
       "Gols             7         3        1\n",
       "Vitorias         4         4        3"
      ]
     },
     "execution_count": 14,
     "metadata": {},
     "output_type": "execute_result"
    }
   ],
   "source": [
    "df"
   ]
  },
  {
   "cell_type": "code",
   "execution_count": 15,
   "id": "0deb342f",
   "metadata": {},
   "outputs": [
    {
     "data": {
      "text/html": [
       "<div>\n",
       "<style scoped>\n",
       "    .dataframe tbody tr th:only-of-type {\n",
       "        vertical-align: middle;\n",
       "    }\n",
       "\n",
       "    .dataframe tbody tr th {\n",
       "        vertical-align: top;\n",
       "    }\n",
       "\n",
       "    .dataframe thead th {\n",
       "        text-align: right;\n",
       "    }\n",
       "</style>\n",
       "<table border=\"1\" class=\"dataframe\">\n",
       "  <thead>\n",
       "    <tr style=\"text-align: right;\">\n",
       "      <th></th>\n",
       "      <th>Cruzeiro</th>\n",
       "      <th>Atletico</th>\n",
       "      <th>America</th>\n",
       "      <th>Flamego</th>\n",
       "    </tr>\n",
       "  </thead>\n",
       "  <tbody>\n",
       "    <tr>\n",
       "      <th>Gols</th>\n",
       "      <td>7</td>\n",
       "      <td>3</td>\n",
       "      <td>1</td>\n",
       "      <td>3</td>\n",
       "    </tr>\n",
       "    <tr>\n",
       "      <th>Vitorias</th>\n",
       "      <td>4</td>\n",
       "      <td>4</td>\n",
       "      <td>3</td>\n",
       "      <td>17</td>\n",
       "    </tr>\n",
       "  </tbody>\n",
       "</table>\n",
       "</div>"
      ],
      "text/plain": [
       "          Cruzeiro  Atletico  America  Flamego\n",
       "Gols             7         3        1        3\n",
       "Vitorias         4         4        3       17"
      ]
     },
     "execution_count": 15,
     "metadata": {},
     "output_type": "execute_result"
    }
   ],
   "source": [
    "df['Flamego']=[3,17]\n",
    "df"
   ]
  },
  {
   "cell_type": "code",
   "execution_count": 16,
   "id": "5f0864a9",
   "metadata": {},
   "outputs": [
    {
     "data": {
      "text/html": [
       "<div>\n",
       "<style scoped>\n",
       "    .dataframe tbody tr th:only-of-type {\n",
       "        vertical-align: middle;\n",
       "    }\n",
       "\n",
       "    .dataframe tbody tr th {\n",
       "        vertical-align: top;\n",
       "    }\n",
       "\n",
       "    .dataframe thead th {\n",
       "        text-align: right;\n",
       "    }\n",
       "</style>\n",
       "<table border=\"1\" class=\"dataframe\">\n",
       "  <thead>\n",
       "    <tr style=\"text-align: right;\">\n",
       "      <th></th>\n",
       "      <th>Cruzeiro</th>\n",
       "      <th>Atletico</th>\n",
       "      <th>America</th>\n",
       "      <th>Flamego</th>\n",
       "    </tr>\n",
       "  </thead>\n",
       "  <tbody>\n",
       "    <tr>\n",
       "      <th>Gols</th>\n",
       "      <td>7</td>\n",
       "      <td>3</td>\n",
       "      <td>1</td>\n",
       "      <td>3</td>\n",
       "    </tr>\n",
       "    <tr>\n",
       "      <th>Vitorias</th>\n",
       "      <td>4</td>\n",
       "      <td>4</td>\n",
       "      <td>3</td>\n",
       "      <td>17</td>\n",
       "    </tr>\n",
       "    <tr>\n",
       "      <th>Empates</th>\n",
       "      <td>0</td>\n",
       "      <td>0</td>\n",
       "      <td>0</td>\n",
       "      <td>0</td>\n",
       "    </tr>\n",
       "  </tbody>\n",
       "</table>\n",
       "</div>"
      ],
      "text/plain": [
       "          Cruzeiro  Atletico  America  Flamego\n",
       "Gols             7         3        1        3\n",
       "Vitorias         4         4        3       17\n",
       "Empates          0         0        0        0"
      ]
     },
     "execution_count": 16,
     "metadata": {},
     "output_type": "execute_result"
    }
   ],
   "source": [
    "df.loc['Empates']=[0,0,0,0]\n"
   ]
  },
  {
   "cell_type": "code",
   "execution_count": 17,
   "id": "b8ec515a",
   "metadata": {},
   "outputs": [
    {
     "data": {
      "text/html": [
       "<div>\n",
       "<style scoped>\n",
       "    .dataframe tbody tr th:only-of-type {\n",
       "        vertical-align: middle;\n",
       "    }\n",
       "\n",
       "    .dataframe tbody tr th {\n",
       "        vertical-align: top;\n",
       "    }\n",
       "\n",
       "    .dataframe thead th {\n",
       "        text-align: right;\n",
       "    }\n",
       "</style>\n",
       "<table border=\"1\" class=\"dataframe\">\n",
       "  <thead>\n",
       "    <tr style=\"text-align: right;\">\n",
       "      <th></th>\n",
       "      <th>Cruzeiro</th>\n",
       "      <th>Atletico</th>\n",
       "      <th>Flamego</th>\n",
       "    </tr>\n",
       "  </thead>\n",
       "  <tbody>\n",
       "    <tr>\n",
       "      <th>Gols</th>\n",
       "      <td>7</td>\n",
       "      <td>3</td>\n",
       "      <td>3</td>\n",
       "    </tr>\n",
       "    <tr>\n",
       "      <th>Vitorias</th>\n",
       "      <td>4</td>\n",
       "      <td>4</td>\n",
       "      <td>17</td>\n",
       "    </tr>\n",
       "    <tr>\n",
       "      <th>Empates</th>\n",
       "      <td>0</td>\n",
       "      <td>0</td>\n",
       "      <td>0</td>\n",
       "    </tr>\n",
       "  </tbody>\n",
       "</table>\n",
       "</div>"
      ],
      "text/plain": [
       "          Cruzeiro  Atletico  Flamego\n",
       "Gols             7         3        3\n",
       "Vitorias         4         4       17\n",
       "Empates          0         0        0"
      ]
     },
     "execution_count": 17,
     "metadata": {},
     "output_type": "execute_result"
    }
   ],
   "source": [
    "df.drop('America', axis=1)"
   ]
  },
  {
   "cell_type": "code",
   "execution_count": 18,
   "id": "01c2de99",
   "metadata": {},
   "outputs": [
    {
     "data": {
      "text/html": [
       "<div>\n",
       "<style scoped>\n",
       "    .dataframe tbody tr th:only-of-type {\n",
       "        vertical-align: middle;\n",
       "    }\n",
       "\n",
       "    .dataframe tbody tr th {\n",
       "        vertical-align: top;\n",
       "    }\n",
       "\n",
       "    .dataframe thead th {\n",
       "        text-align: right;\n",
       "    }\n",
       "</style>\n",
       "<table border=\"1\" class=\"dataframe\">\n",
       "  <thead>\n",
       "    <tr style=\"text-align: right;\">\n",
       "      <th></th>\n",
       "      <th>Cruzeiro</th>\n",
       "      <th>Atletico</th>\n",
       "      <th>America</th>\n",
       "      <th>Flamego</th>\n",
       "    </tr>\n",
       "  </thead>\n",
       "  <tbody>\n",
       "    <tr>\n",
       "      <th>Gols</th>\n",
       "      <td>7</td>\n",
       "      <td>3</td>\n",
       "      <td>1</td>\n",
       "      <td>3</td>\n",
       "    </tr>\n",
       "    <tr>\n",
       "      <th>Vitorias</th>\n",
       "      <td>4</td>\n",
       "      <td>4</td>\n",
       "      <td>3</td>\n",
       "      <td>17</td>\n",
       "    </tr>\n",
       "    <tr>\n",
       "      <th>Empates</th>\n",
       "      <td>0</td>\n",
       "      <td>0</td>\n",
       "      <td>0</td>\n",
       "      <td>0</td>\n",
       "    </tr>\n",
       "  </tbody>\n",
       "</table>\n",
       "</div>"
      ],
      "text/plain": [
       "          Cruzeiro  Atletico  America  Flamego\n",
       "Gols             7         3        1        3\n",
       "Vitorias         4         4        3       17\n",
       "Empates          0         0        0        0"
      ]
     },
     "execution_count": 18,
     "metadata": {},
     "output_type": "execute_result"
    }
   ],
   "source": [
    "df"
   ]
  },
  {
   "cell_type": "code",
   "execution_count": 20,
   "id": "4ccc3bec",
   "metadata": {},
   "outputs": [
    {
     "ename": "KeyError",
     "evalue": "\"['America'] not found in axis\"",
     "output_type": "error",
     "traceback": [
      "\u001b[1;31m---------------------------------------------------------------------------\u001b[0m",
      "\u001b[1;31mKeyError\u001b[0m                                  Traceback (most recent call last)",
      "\u001b[1;32mC:\\Users\\HELIO~1.GAL\\AppData\\Local\\Temp/ipykernel_2100/3073338957.py\u001b[0m in \u001b[0;36m<module>\u001b[1;34m\u001b[0m\n\u001b[1;32m----> 1\u001b[1;33m \u001b[0mdf\u001b[0m\u001b[1;33m.\u001b[0m\u001b[0mdrop\u001b[0m\u001b[1;33m(\u001b[0m\u001b[1;34m'America'\u001b[0m\u001b[1;33m,\u001b[0m \u001b[0maxis\u001b[0m\u001b[1;33m=\u001b[0m\u001b[1;36m1\u001b[0m\u001b[1;33m,\u001b[0m \u001b[0minplace\u001b[0m\u001b[1;33m=\u001b[0m\u001b[1;32mTrue\u001b[0m\u001b[1;33m)\u001b[0m\u001b[1;33m\u001b[0m\u001b[1;33m\u001b[0m\u001b[0m\n\u001b[0m",
      "\u001b[1;32m~\\Desktop\\Python\\venv\\lib\\site-packages\\pandas\\util\\_decorators.py\u001b[0m in \u001b[0;36mwrapper\u001b[1;34m(*args, **kwargs)\u001b[0m\n\u001b[0;32m    309\u001b[0m                     \u001b[0mstacklevel\u001b[0m\u001b[1;33m=\u001b[0m\u001b[0mstacklevel\u001b[0m\u001b[1;33m,\u001b[0m\u001b[1;33m\u001b[0m\u001b[1;33m\u001b[0m\u001b[0m\n\u001b[0;32m    310\u001b[0m                 )\n\u001b[1;32m--> 311\u001b[1;33m             \u001b[1;32mreturn\u001b[0m \u001b[0mfunc\u001b[0m\u001b[1;33m(\u001b[0m\u001b[1;33m*\u001b[0m\u001b[0margs\u001b[0m\u001b[1;33m,\u001b[0m \u001b[1;33m**\u001b[0m\u001b[0mkwargs\u001b[0m\u001b[1;33m)\u001b[0m\u001b[1;33m\u001b[0m\u001b[1;33m\u001b[0m\u001b[0m\n\u001b[0m\u001b[0;32m    312\u001b[0m \u001b[1;33m\u001b[0m\u001b[0m\n\u001b[0;32m    313\u001b[0m         \u001b[1;32mreturn\u001b[0m \u001b[0mwrapper\u001b[0m\u001b[1;33m\u001b[0m\u001b[1;33m\u001b[0m\u001b[0m\n",
      "\u001b[1;32m~\\Desktop\\Python\\venv\\lib\\site-packages\\pandas\\core\\frame.py\u001b[0m in \u001b[0;36mdrop\u001b[1;34m(self, labels, axis, index, columns, level, inplace, errors)\u001b[0m\n\u001b[0;32m   4904\u001b[0m                 \u001b[0mweight\u001b[0m  \u001b[1;36m1.0\u001b[0m     \u001b[1;36m0.8\u001b[0m\u001b[1;33m\u001b[0m\u001b[1;33m\u001b[0m\u001b[0m\n\u001b[0;32m   4905\u001b[0m         \"\"\"\n\u001b[1;32m-> 4906\u001b[1;33m         return super().drop(\n\u001b[0m\u001b[0;32m   4907\u001b[0m             \u001b[0mlabels\u001b[0m\u001b[1;33m=\u001b[0m\u001b[0mlabels\u001b[0m\u001b[1;33m,\u001b[0m\u001b[1;33m\u001b[0m\u001b[1;33m\u001b[0m\u001b[0m\n\u001b[0;32m   4908\u001b[0m             \u001b[0maxis\u001b[0m\u001b[1;33m=\u001b[0m\u001b[0maxis\u001b[0m\u001b[1;33m,\u001b[0m\u001b[1;33m\u001b[0m\u001b[1;33m\u001b[0m\u001b[0m\n",
      "\u001b[1;32m~\\Desktop\\Python\\venv\\lib\\site-packages\\pandas\\core\\generic.py\u001b[0m in \u001b[0;36mdrop\u001b[1;34m(self, labels, axis, index, columns, level, inplace, errors)\u001b[0m\n\u001b[0;32m   4148\u001b[0m         \u001b[1;32mfor\u001b[0m \u001b[0maxis\u001b[0m\u001b[1;33m,\u001b[0m \u001b[0mlabels\u001b[0m \u001b[1;32min\u001b[0m \u001b[0maxes\u001b[0m\u001b[1;33m.\u001b[0m\u001b[0mitems\u001b[0m\u001b[1;33m(\u001b[0m\u001b[1;33m)\u001b[0m\u001b[1;33m:\u001b[0m\u001b[1;33m\u001b[0m\u001b[1;33m\u001b[0m\u001b[0m\n\u001b[0;32m   4149\u001b[0m             \u001b[1;32mif\u001b[0m \u001b[0mlabels\u001b[0m \u001b[1;32mis\u001b[0m \u001b[1;32mnot\u001b[0m \u001b[1;32mNone\u001b[0m\u001b[1;33m:\u001b[0m\u001b[1;33m\u001b[0m\u001b[1;33m\u001b[0m\u001b[0m\n\u001b[1;32m-> 4150\u001b[1;33m                 \u001b[0mobj\u001b[0m \u001b[1;33m=\u001b[0m \u001b[0mobj\u001b[0m\u001b[1;33m.\u001b[0m\u001b[0m_drop_axis\u001b[0m\u001b[1;33m(\u001b[0m\u001b[0mlabels\u001b[0m\u001b[1;33m,\u001b[0m \u001b[0maxis\u001b[0m\u001b[1;33m,\u001b[0m \u001b[0mlevel\u001b[0m\u001b[1;33m=\u001b[0m\u001b[0mlevel\u001b[0m\u001b[1;33m,\u001b[0m \u001b[0merrors\u001b[0m\u001b[1;33m=\u001b[0m\u001b[0merrors\u001b[0m\u001b[1;33m)\u001b[0m\u001b[1;33m\u001b[0m\u001b[1;33m\u001b[0m\u001b[0m\n\u001b[0m\u001b[0;32m   4151\u001b[0m \u001b[1;33m\u001b[0m\u001b[0m\n\u001b[0;32m   4152\u001b[0m         \u001b[1;32mif\u001b[0m \u001b[0minplace\u001b[0m\u001b[1;33m:\u001b[0m\u001b[1;33m\u001b[0m\u001b[1;33m\u001b[0m\u001b[0m\n",
      "\u001b[1;32m~\\Desktop\\Python\\venv\\lib\\site-packages\\pandas\\core\\generic.py\u001b[0m in \u001b[0;36m_drop_axis\u001b[1;34m(self, labels, axis, level, errors)\u001b[0m\n\u001b[0;32m   4183\u001b[0m                 \u001b[0mnew_axis\u001b[0m \u001b[1;33m=\u001b[0m \u001b[0maxis\u001b[0m\u001b[1;33m.\u001b[0m\u001b[0mdrop\u001b[0m\u001b[1;33m(\u001b[0m\u001b[0mlabels\u001b[0m\u001b[1;33m,\u001b[0m \u001b[0mlevel\u001b[0m\u001b[1;33m=\u001b[0m\u001b[0mlevel\u001b[0m\u001b[1;33m,\u001b[0m \u001b[0merrors\u001b[0m\u001b[1;33m=\u001b[0m\u001b[0merrors\u001b[0m\u001b[1;33m)\u001b[0m\u001b[1;33m\u001b[0m\u001b[1;33m\u001b[0m\u001b[0m\n\u001b[0;32m   4184\u001b[0m             \u001b[1;32melse\u001b[0m\u001b[1;33m:\u001b[0m\u001b[1;33m\u001b[0m\u001b[1;33m\u001b[0m\u001b[0m\n\u001b[1;32m-> 4185\u001b[1;33m                 \u001b[0mnew_axis\u001b[0m \u001b[1;33m=\u001b[0m \u001b[0maxis\u001b[0m\u001b[1;33m.\u001b[0m\u001b[0mdrop\u001b[0m\u001b[1;33m(\u001b[0m\u001b[0mlabels\u001b[0m\u001b[1;33m,\u001b[0m \u001b[0merrors\u001b[0m\u001b[1;33m=\u001b[0m\u001b[0merrors\u001b[0m\u001b[1;33m)\u001b[0m\u001b[1;33m\u001b[0m\u001b[1;33m\u001b[0m\u001b[0m\n\u001b[0m\u001b[0;32m   4186\u001b[0m             \u001b[0mresult\u001b[0m \u001b[1;33m=\u001b[0m \u001b[0mself\u001b[0m\u001b[1;33m.\u001b[0m\u001b[0mreindex\u001b[0m\u001b[1;33m(\u001b[0m\u001b[1;33m**\u001b[0m\u001b[1;33m{\u001b[0m\u001b[0maxis_name\u001b[0m\u001b[1;33m:\u001b[0m \u001b[0mnew_axis\u001b[0m\u001b[1;33m}\u001b[0m\u001b[1;33m)\u001b[0m\u001b[1;33m\u001b[0m\u001b[1;33m\u001b[0m\u001b[0m\n\u001b[0;32m   4187\u001b[0m \u001b[1;33m\u001b[0m\u001b[0m\n",
      "\u001b[1;32m~\\Desktop\\Python\\venv\\lib\\site-packages\\pandas\\core\\indexes\\base.py\u001b[0m in \u001b[0;36mdrop\u001b[1;34m(self, labels, errors)\u001b[0m\n\u001b[0;32m   6015\u001b[0m         \u001b[1;32mif\u001b[0m \u001b[0mmask\u001b[0m\u001b[1;33m.\u001b[0m\u001b[0many\u001b[0m\u001b[1;33m(\u001b[0m\u001b[1;33m)\u001b[0m\u001b[1;33m:\u001b[0m\u001b[1;33m\u001b[0m\u001b[1;33m\u001b[0m\u001b[0m\n\u001b[0;32m   6016\u001b[0m             \u001b[1;32mif\u001b[0m \u001b[0merrors\u001b[0m \u001b[1;33m!=\u001b[0m \u001b[1;34m\"ignore\"\u001b[0m\u001b[1;33m:\u001b[0m\u001b[1;33m\u001b[0m\u001b[1;33m\u001b[0m\u001b[0m\n\u001b[1;32m-> 6017\u001b[1;33m                 \u001b[1;32mraise\u001b[0m \u001b[0mKeyError\u001b[0m\u001b[1;33m(\u001b[0m\u001b[1;34mf\"{labels[mask]} not found in axis\"\u001b[0m\u001b[1;33m)\u001b[0m\u001b[1;33m\u001b[0m\u001b[1;33m\u001b[0m\u001b[0m\n\u001b[0m\u001b[0;32m   6018\u001b[0m             \u001b[0mindexer\u001b[0m \u001b[1;33m=\u001b[0m \u001b[0mindexer\u001b[0m\u001b[1;33m[\u001b[0m\u001b[1;33m~\u001b[0m\u001b[0mmask\u001b[0m\u001b[1;33m]\u001b[0m\u001b[1;33m\u001b[0m\u001b[1;33m\u001b[0m\u001b[0m\n\u001b[0;32m   6019\u001b[0m         \u001b[1;32mreturn\u001b[0m \u001b[0mself\u001b[0m\u001b[1;33m.\u001b[0m\u001b[0mdelete\u001b[0m\u001b[1;33m(\u001b[0m\u001b[0mindexer\u001b[0m\u001b[1;33m)\u001b[0m\u001b[1;33m\u001b[0m\u001b[1;33m\u001b[0m\u001b[0m\n",
      "\u001b[1;31mKeyError\u001b[0m: \"['America'] not found in axis\""
     ]
    }
   ],
   "source": [
    "df.drop('America', axis=1, inplace=True)"
   ]
  },
  {
   "cell_type": "code",
   "execution_count": 21,
   "id": "e133632e",
   "metadata": {},
   "outputs": [
    {
     "data": {
      "text/html": [
       "<div>\n",
       "<style scoped>\n",
       "    .dataframe tbody tr th:only-of-type {\n",
       "        vertical-align: middle;\n",
       "    }\n",
       "\n",
       "    .dataframe tbody tr th {\n",
       "        vertical-align: top;\n",
       "    }\n",
       "\n",
       "    .dataframe thead th {\n",
       "        text-align: right;\n",
       "    }\n",
       "</style>\n",
       "<table border=\"1\" class=\"dataframe\">\n",
       "  <thead>\n",
       "    <tr style=\"text-align: right;\">\n",
       "      <th></th>\n",
       "      <th>Cruzeiro</th>\n",
       "      <th>Atletico</th>\n",
       "      <th>Flamego</th>\n",
       "    </tr>\n",
       "  </thead>\n",
       "  <tbody>\n",
       "    <tr>\n",
       "      <th>Gols</th>\n",
       "      <td>7</td>\n",
       "      <td>3</td>\n",
       "      <td>3</td>\n",
       "    </tr>\n",
       "    <tr>\n",
       "      <th>Vitorias</th>\n",
       "      <td>4</td>\n",
       "      <td>4</td>\n",
       "      <td>17</td>\n",
       "    </tr>\n",
       "    <tr>\n",
       "      <th>Empates</th>\n",
       "      <td>0</td>\n",
       "      <td>0</td>\n",
       "      <td>0</td>\n",
       "    </tr>\n",
       "  </tbody>\n",
       "</table>\n",
       "</div>"
      ],
      "text/plain": [
       "          Cruzeiro  Atletico  Flamego\n",
       "Gols             7         3        3\n",
       "Vitorias         4         4       17\n",
       "Empates          0         0        0"
      ]
     },
     "execution_count": 21,
     "metadata": {},
     "output_type": "execute_result"
    }
   ],
   "source": [
    "df"
   ]
  },
  {
   "cell_type": "code",
   "execution_count": 22,
   "id": "cbd7faba",
   "metadata": {},
   "outputs": [],
   "source": [
    "del df['Cruzeiro']"
   ]
  },
  {
   "cell_type": "code",
   "execution_count": 23,
   "id": "6b207511",
   "metadata": {},
   "outputs": [
    {
     "data": {
      "text/html": [
       "<div>\n",
       "<style scoped>\n",
       "    .dataframe tbody tr th:only-of-type {\n",
       "        vertical-align: middle;\n",
       "    }\n",
       "\n",
       "    .dataframe tbody tr th {\n",
       "        vertical-align: top;\n",
       "    }\n",
       "\n",
       "    .dataframe thead th {\n",
       "        text-align: right;\n",
       "    }\n",
       "</style>\n",
       "<table border=\"1\" class=\"dataframe\">\n",
       "  <thead>\n",
       "    <tr style=\"text-align: right;\">\n",
       "      <th></th>\n",
       "      <th>Atletico</th>\n",
       "      <th>Flamego</th>\n",
       "    </tr>\n",
       "  </thead>\n",
       "  <tbody>\n",
       "    <tr>\n",
       "      <th>Gols</th>\n",
       "      <td>3</td>\n",
       "      <td>3</td>\n",
       "    </tr>\n",
       "    <tr>\n",
       "      <th>Vitorias</th>\n",
       "      <td>4</td>\n",
       "      <td>17</td>\n",
       "    </tr>\n",
       "    <tr>\n",
       "      <th>Empates</th>\n",
       "      <td>0</td>\n",
       "      <td>0</td>\n",
       "    </tr>\n",
       "  </tbody>\n",
       "</table>\n",
       "</div>"
      ],
      "text/plain": [
       "          Atletico  Flamego\n",
       "Gols             3        3\n",
       "Vitorias         4       17\n",
       "Empates          0        0"
      ]
     },
     "execution_count": 23,
     "metadata": {},
     "output_type": "execute_result"
    }
   ],
   "source": [
    "df"
   ]
  },
  {
   "cell_type": "code",
   "execution_count": 25,
   "id": "119fd4e7",
   "metadata": {},
   "outputs": [
    {
     "data": {
      "text/html": [
       "<div>\n",
       "<style scoped>\n",
       "    .dataframe tbody tr th:only-of-type {\n",
       "        vertical-align: middle;\n",
       "    }\n",
       "\n",
       "    .dataframe tbody tr th {\n",
       "        vertical-align: top;\n",
       "    }\n",
       "\n",
       "    .dataframe thead th {\n",
       "        text-align: right;\n",
       "    }\n",
       "</style>\n",
       "<table border=\"1\" class=\"dataframe\">\n",
       "  <thead>\n",
       "    <tr style=\"text-align: right;\">\n",
       "      <th></th>\n",
       "      <th>Atletico</th>\n",
       "      <th>Flamego</th>\n",
       "    </tr>\n",
       "  </thead>\n",
       "  <tbody>\n",
       "    <tr>\n",
       "      <th>Gols</th>\n",
       "      <td>3</td>\n",
       "      <td>3</td>\n",
       "    </tr>\n",
       "    <tr>\n",
       "      <th>Vitorias</th>\n",
       "      <td>4</td>\n",
       "      <td>17</td>\n",
       "    </tr>\n",
       "  </tbody>\n",
       "</table>\n",
       "</div>"
      ],
      "text/plain": [
       "          Atletico  Flamego\n",
       "Gols             3        3\n",
       "Vitorias         4       17"
      ]
     },
     "execution_count": 25,
     "metadata": {},
     "output_type": "execute_result"
    }
   ],
   "source": [
    "df.drop('Empates',axis=0)"
   ]
  },
  {
   "cell_type": "code",
   "execution_count": 26,
   "id": "6ce00773",
   "metadata": {},
   "outputs": [
    {
     "data": {
      "text/html": [
       "<div>\n",
       "<style scoped>\n",
       "    .dataframe tbody tr th:only-of-type {\n",
       "        vertical-align: middle;\n",
       "    }\n",
       "\n",
       "    .dataframe tbody tr th {\n",
       "        vertical-align: top;\n",
       "    }\n",
       "\n",
       "    .dataframe thead th {\n",
       "        text-align: right;\n",
       "    }\n",
       "</style>\n",
       "<table border=\"1\" class=\"dataframe\">\n",
       "  <thead>\n",
       "    <tr style=\"text-align: right;\">\n",
       "      <th></th>\n",
       "      <th>Atletico</th>\n",
       "      <th>Flamego</th>\n",
       "    </tr>\n",
       "  </thead>\n",
       "  <tbody>\n",
       "    <tr>\n",
       "      <th>Gols</th>\n",
       "      <td>3</td>\n",
       "      <td>3</td>\n",
       "    </tr>\n",
       "    <tr>\n",
       "      <th>Vitorias</th>\n",
       "      <td>4</td>\n",
       "      <td>17</td>\n",
       "    </tr>\n",
       "    <tr>\n",
       "      <th>Empates</th>\n",
       "      <td>0</td>\n",
       "      <td>0</td>\n",
       "    </tr>\n",
       "  </tbody>\n",
       "</table>\n",
       "</div>"
      ],
      "text/plain": [
       "          Atletico  Flamego\n",
       "Gols             3        3\n",
       "Vitorias         4       17\n",
       "Empates          0        0"
      ]
     },
     "execution_count": 26,
     "metadata": {},
     "output_type": "execute_result"
    }
   ],
   "source": [
    "df"
   ]
  },
  {
   "cell_type": "code",
   "execution_count": 28,
   "id": "c57bd2f0",
   "metadata": {},
   "outputs": [],
   "source": [
    "df.drop('Empates',axis=0, inplace=True)"
   ]
  },
  {
   "cell_type": "code",
   "execution_count": 29,
   "id": "c8b9630d",
   "metadata": {},
   "outputs": [
    {
     "data": {
      "text/html": [
       "<div>\n",
       "<style scoped>\n",
       "    .dataframe tbody tr th:only-of-type {\n",
       "        vertical-align: middle;\n",
       "    }\n",
       "\n",
       "    .dataframe tbody tr th {\n",
       "        vertical-align: top;\n",
       "    }\n",
       "\n",
       "    .dataframe thead th {\n",
       "        text-align: right;\n",
       "    }\n",
       "</style>\n",
       "<table border=\"1\" class=\"dataframe\">\n",
       "  <thead>\n",
       "    <tr style=\"text-align: right;\">\n",
       "      <th></th>\n",
       "      <th>Atletico</th>\n",
       "      <th>Flamego</th>\n",
       "    </tr>\n",
       "  </thead>\n",
       "  <tbody>\n",
       "    <tr>\n",
       "      <th>Gols</th>\n",
       "      <td>3</td>\n",
       "      <td>3</td>\n",
       "    </tr>\n",
       "    <tr>\n",
       "      <th>Vitorias</th>\n",
       "      <td>4</td>\n",
       "      <td>17</td>\n",
       "    </tr>\n",
       "  </tbody>\n",
       "</table>\n",
       "</div>"
      ],
      "text/plain": [
       "          Atletico  Flamego\n",
       "Gols             3        3\n",
       "Vitorias         4       17"
      ]
     },
     "execution_count": 29,
     "metadata": {},
     "output_type": "execute_result"
    }
   ],
   "source": [
    "df"
   ]
  },
  {
   "cell_type": "code",
   "execution_count": 32,
   "id": "81fa3304",
   "metadata": {},
   "outputs": [
    {
     "data": {
      "text/html": [
       "<div>\n",
       "<style scoped>\n",
       "    .dataframe tbody tr th:only-of-type {\n",
       "        vertical-align: middle;\n",
       "    }\n",
       "\n",
       "    .dataframe tbody tr th {\n",
       "        vertical-align: top;\n",
       "    }\n",
       "\n",
       "    .dataframe thead th {\n",
       "        text-align: right;\n",
       "    }\n",
       "</style>\n",
       "<table border=\"1\" class=\"dataframe\">\n",
       "  <thead>\n",
       "    <tr style=\"text-align: right;\">\n",
       "      <th></th>\n",
       "      <th>a</th>\n",
       "      <th>b</th>\n",
       "      <th>c</th>\n",
       "    </tr>\n",
       "  </thead>\n",
       "  <tbody>\n",
       "    <tr>\n",
       "      <th>0</th>\n",
       "      <td>1.0</td>\n",
       "      <td>5</td>\n",
       "      <td>2.0</td>\n",
       "    </tr>\n",
       "    <tr>\n",
       "      <th>1</th>\n",
       "      <td>2.0</td>\n",
       "      <td>6</td>\n",
       "      <td>4.0</td>\n",
       "    </tr>\n",
       "    <tr>\n",
       "      <th>2</th>\n",
       "      <td>NaN</td>\n",
       "      <td>7</td>\n",
       "      <td>NaN</td>\n",
       "    </tr>\n",
       "  </tbody>\n",
       "</table>\n",
       "</div>"
      ],
      "text/plain": [
       "     a  b    c\n",
       "0  1.0  5  2.0\n",
       "1  2.0  6  4.0\n",
       "2  NaN  7  NaN"
      ]
     },
     "execution_count": 32,
     "metadata": {},
     "output_type": "execute_result"
    }
   ],
   "source": [
    "df2 = pd.DataFrame({'a':[1,2,np.nan],'b':[5,6,7],'c':[2,4,np.nan]})\n",
    "df2"
   ]
  },
  {
   "cell_type": "code",
   "execution_count": 33,
   "id": "0be7c7f8",
   "metadata": {},
   "outputs": [
    {
     "data": {
      "text/html": [
       "<div>\n",
       "<style scoped>\n",
       "    .dataframe tbody tr th:only-of-type {\n",
       "        vertical-align: middle;\n",
       "    }\n",
       "\n",
       "    .dataframe tbody tr th {\n",
       "        vertical-align: top;\n",
       "    }\n",
       "\n",
       "    .dataframe thead th {\n",
       "        text-align: right;\n",
       "    }\n",
       "</style>\n",
       "<table border=\"1\" class=\"dataframe\">\n",
       "  <thead>\n",
       "    <tr style=\"text-align: right;\">\n",
       "      <th></th>\n",
       "      <th>a</th>\n",
       "      <th>b</th>\n",
       "      <th>c</th>\n",
       "    </tr>\n",
       "  </thead>\n",
       "  <tbody>\n",
       "    <tr>\n",
       "      <th>0</th>\n",
       "      <td>1.0</td>\n",
       "      <td>5</td>\n",
       "      <td>2.0</td>\n",
       "    </tr>\n",
       "    <tr>\n",
       "      <th>1</th>\n",
       "      <td>2.0</td>\n",
       "      <td>6</td>\n",
       "      <td>4.0</td>\n",
       "    </tr>\n",
       "  </tbody>\n",
       "</table>\n",
       "</div>"
      ],
      "text/plain": [
       "     a  b    c\n",
       "0  1.0  5  2.0\n",
       "1  2.0  6  4.0"
      ]
     },
     "execution_count": 33,
     "metadata": {},
     "output_type": "execute_result"
    }
   ],
   "source": [
    "df2.dropna()"
   ]
  },
  {
   "cell_type": "code",
   "execution_count": 34,
   "id": "bc0d91e2",
   "metadata": {},
   "outputs": [
    {
     "data": {
      "text/html": [
       "<div>\n",
       "<style scoped>\n",
       "    .dataframe tbody tr th:only-of-type {\n",
       "        vertical-align: middle;\n",
       "    }\n",
       "\n",
       "    .dataframe tbody tr th {\n",
       "        vertical-align: top;\n",
       "    }\n",
       "\n",
       "    .dataframe thead th {\n",
       "        text-align: right;\n",
       "    }\n",
       "</style>\n",
       "<table border=\"1\" class=\"dataframe\">\n",
       "  <thead>\n",
       "    <tr style=\"text-align: right;\">\n",
       "      <th></th>\n",
       "      <th>a</th>\n",
       "      <th>b</th>\n",
       "      <th>c</th>\n",
       "    </tr>\n",
       "  </thead>\n",
       "  <tbody>\n",
       "    <tr>\n",
       "      <th>0</th>\n",
       "      <td>1.0</td>\n",
       "      <td>5</td>\n",
       "      <td>2.0</td>\n",
       "    </tr>\n",
       "    <tr>\n",
       "      <th>1</th>\n",
       "      <td>2.0</td>\n",
       "      <td>6</td>\n",
       "      <td>4.0</td>\n",
       "    </tr>\n",
       "    <tr>\n",
       "      <th>2</th>\n",
       "      <td>NaN</td>\n",
       "      <td>7</td>\n",
       "      <td>NaN</td>\n",
       "    </tr>\n",
       "  </tbody>\n",
       "</table>\n",
       "</div>"
      ],
      "text/plain": [
       "     a  b    c\n",
       "0  1.0  5  2.0\n",
       "1  2.0  6  4.0\n",
       "2  NaN  7  NaN"
      ]
     },
     "execution_count": 34,
     "metadata": {},
     "output_type": "execute_result"
    }
   ],
   "source": [
    "df2.drop_duplicates(subset=['a'])"
   ]
  },
  {
   "cell_type": "code",
   "execution_count": 35,
   "id": "2dfd4a39",
   "metadata": {},
   "outputs": [
    {
     "data": {
      "text/html": [
       "<div>\n",
       "<style scoped>\n",
       "    .dataframe tbody tr th:only-of-type {\n",
       "        vertical-align: middle;\n",
       "    }\n",
       "\n",
       "    .dataframe tbody tr th {\n",
       "        vertical-align: top;\n",
       "    }\n",
       "\n",
       "    .dataframe thead th {\n",
       "        text-align: right;\n",
       "    }\n",
       "</style>\n",
       "<table border=\"1\" class=\"dataframe\">\n",
       "  <thead>\n",
       "    <tr style=\"text-align: right;\">\n",
       "      <th></th>\n",
       "      <th>a</th>\n",
       "      <th>b</th>\n",
       "      <th>c</th>\n",
       "    </tr>\n",
       "  </thead>\n",
       "  <tbody>\n",
       "    <tr>\n",
       "      <th>0</th>\n",
       "      <td>1.0</td>\n",
       "      <td>5</td>\n",
       "      <td>2.0</td>\n",
       "    </tr>\n",
       "    <tr>\n",
       "      <th>1</th>\n",
       "      <td>2.0</td>\n",
       "      <td>6</td>\n",
       "      <td>4.0</td>\n",
       "    </tr>\n",
       "    <tr>\n",
       "      <th>2</th>\n",
       "      <td>Helio</td>\n",
       "      <td>7</td>\n",
       "      <td>Helio</td>\n",
       "    </tr>\n",
       "  </tbody>\n",
       "</table>\n",
       "</div>"
      ],
      "text/plain": [
       "       a  b      c\n",
       "0    1.0  5    2.0\n",
       "1    2.0  6    4.0\n",
       "2  Helio  7  Helio"
      ]
     },
     "execution_count": 35,
     "metadata": {},
     "output_type": "execute_result"
    }
   ],
   "source": [
    "df2.fillna('Helio')"
   ]
  },
  {
   "cell_type": "code",
   "execution_count": 36,
   "id": "c495d043",
   "metadata": {},
   "outputs": [
    {
     "data": {
      "text/html": [
       "<div>\n",
       "<style scoped>\n",
       "    .dataframe tbody tr th:only-of-type {\n",
       "        vertical-align: middle;\n",
       "    }\n",
       "\n",
       "    .dataframe tbody tr th {\n",
       "        vertical-align: top;\n",
       "    }\n",
       "\n",
       "    .dataframe thead th {\n",
       "        text-align: right;\n",
       "    }\n",
       "</style>\n",
       "<table border=\"1\" class=\"dataframe\">\n",
       "  <thead>\n",
       "    <tr style=\"text-align: right;\">\n",
       "      <th></th>\n",
       "      <th>a</th>\n",
       "      <th>b</th>\n",
       "      <th>c</th>\n",
       "    </tr>\n",
       "  </thead>\n",
       "  <tbody>\n",
       "    <tr>\n",
       "      <th>0</th>\n",
       "      <td>1.0</td>\n",
       "      <td>5</td>\n",
       "      <td>2.0</td>\n",
       "    </tr>\n",
       "    <tr>\n",
       "      <th>1</th>\n",
       "      <td>2.0</td>\n",
       "      <td>6</td>\n",
       "      <td>4.0</td>\n",
       "    </tr>\n",
       "    <tr>\n",
       "      <th>2</th>\n",
       "      <td>6.0</td>\n",
       "      <td>7</td>\n",
       "      <td>6.0</td>\n",
       "    </tr>\n",
       "  </tbody>\n",
       "</table>\n",
       "</div>"
      ],
      "text/plain": [
       "     a  b    c\n",
       "0  1.0  5  2.0\n",
       "1  2.0  6  4.0\n",
       "2  6.0  7  6.0"
      ]
     },
     "execution_count": 36,
     "metadata": {},
     "output_type": "execute_result"
    }
   ],
   "source": [
    "df2.fillna(value=df2['b'].mean())"
   ]
  },
  {
   "cell_type": "code",
   "execution_count": 37,
   "id": "5345956c",
   "metadata": {},
   "outputs": [
    {
     "data": {
      "text/html": [
       "<div>\n",
       "<style scoped>\n",
       "    .dataframe tbody tr th:only-of-type {\n",
       "        vertical-align: middle;\n",
       "    }\n",
       "\n",
       "    .dataframe tbody tr th {\n",
       "        vertical-align: top;\n",
       "    }\n",
       "\n",
       "    .dataframe thead th {\n",
       "        text-align: right;\n",
       "    }\n",
       "</style>\n",
       "<table border=\"1\" class=\"dataframe\">\n",
       "  <thead>\n",
       "    <tr style=\"text-align: right;\">\n",
       "      <th></th>\n",
       "      <th>modelo</th>\n",
       "      <th>marca</th>\n",
       "      <th>valor</th>\n",
       "      <th>unidades</th>\n",
       "    </tr>\n",
       "  </thead>\n",
       "  <tbody>\n",
       "    <tr>\n",
       "      <th>0</th>\n",
       "      <td>Uno</td>\n",
       "      <td>Fiat</td>\n",
       "      <td>10000</td>\n",
       "      <td>10</td>\n",
       "    </tr>\n",
       "    <tr>\n",
       "      <th>1</th>\n",
       "      <td>Monza</td>\n",
       "      <td>Chevrolet</td>\n",
       "      <td>20000</td>\n",
       "      <td>30</td>\n",
       "    </tr>\n",
       "    <tr>\n",
       "      <th>2</th>\n",
       "      <td>Camaro</td>\n",
       "      <td>Chevrolet</td>\n",
       "      <td>20000</td>\n",
       "      <td>100</td>\n",
       "    </tr>\n",
       "    <tr>\n",
       "      <th>3</th>\n",
       "      <td>Gol</td>\n",
       "      <td>VW</td>\n",
       "      <td>30000</td>\n",
       "      <td>25</td>\n",
       "    </tr>\n",
       "    <tr>\n",
       "      <th>4</th>\n",
       "      <td>Palio</td>\n",
       "      <td>Fiat</td>\n",
       "      <td>15000</td>\n",
       "      <td>15</td>\n",
       "    </tr>\n",
       "  </tbody>\n",
       "</table>\n",
       "</div>"
      ],
      "text/plain": [
       "   modelo      marca  valor  unidades\n",
       "0     Uno       Fiat  10000        10\n",
       "1   Monza  Chevrolet  20000        30\n",
       "2  Camaro  Chevrolet  20000       100\n",
       "3     Gol         VW  30000        25\n",
       "4   Palio       Fiat  15000        15"
      ]
     },
     "execution_count": 37,
     "metadata": {},
     "output_type": "execute_result"
    }
   ],
   "source": [
    "df = pd.DataFrame({\"modelo\":[\"Uno\",\"Monza\",\"Camaro\",\"Gol\",\"Palio\"],\n",
    "                  \"marca\":[\"Fiat\",\"Chevrolet\",\"Chevrolet\",\"VW\",\"Fiat\"],\n",
    "                  \"valor\":[10000,20000,20000,30000,15000],\n",
    "                   \"unidades\":[10,30,100,25,15]})\n",
    "df"
   ]
  },
  {
   "cell_type": "markdown",
   "id": "9f93885d",
   "metadata": {},
   "source": [
    "**Métodos Descritivos**"
   ]
  },
  {
   "cell_type": "code",
   "execution_count": 38,
   "id": "a6deab65",
   "metadata": {},
   "outputs": [
    {
     "data": {
      "text/html": [
       "<div>\n",
       "<style scoped>\n",
       "    .dataframe tbody tr th:only-of-type {\n",
       "        vertical-align: middle;\n",
       "    }\n",
       "\n",
       "    .dataframe tbody tr th {\n",
       "        vertical-align: top;\n",
       "    }\n",
       "\n",
       "    .dataframe thead th {\n",
       "        text-align: right;\n",
       "    }\n",
       "</style>\n",
       "<table border=\"1\" class=\"dataframe\">\n",
       "  <thead>\n",
       "    <tr style=\"text-align: right;\">\n",
       "      <th></th>\n",
       "      <th>valor</th>\n",
       "      <th>unidades</th>\n",
       "    </tr>\n",
       "  </thead>\n",
       "  <tbody>\n",
       "    <tr>\n",
       "      <th>count</th>\n",
       "      <td>5.000000</td>\n",
       "      <td>5.000000</td>\n",
       "    </tr>\n",
       "    <tr>\n",
       "      <th>mean</th>\n",
       "      <td>19000.000000</td>\n",
       "      <td>36.000000</td>\n",
       "    </tr>\n",
       "    <tr>\n",
       "      <th>std</th>\n",
       "      <td>7416.198487</td>\n",
       "      <td>36.640142</td>\n",
       "    </tr>\n",
       "    <tr>\n",
       "      <th>min</th>\n",
       "      <td>10000.000000</td>\n",
       "      <td>10.000000</td>\n",
       "    </tr>\n",
       "    <tr>\n",
       "      <th>25%</th>\n",
       "      <td>15000.000000</td>\n",
       "      <td>15.000000</td>\n",
       "    </tr>\n",
       "    <tr>\n",
       "      <th>50%</th>\n",
       "      <td>20000.000000</td>\n",
       "      <td>25.000000</td>\n",
       "    </tr>\n",
       "    <tr>\n",
       "      <th>75%</th>\n",
       "      <td>20000.000000</td>\n",
       "      <td>30.000000</td>\n",
       "    </tr>\n",
       "    <tr>\n",
       "      <th>max</th>\n",
       "      <td>30000.000000</td>\n",
       "      <td>100.000000</td>\n",
       "    </tr>\n",
       "  </tbody>\n",
       "</table>\n",
       "</div>"
      ],
      "text/plain": [
       "              valor    unidades\n",
       "count      5.000000    5.000000\n",
       "mean   19000.000000   36.000000\n",
       "std     7416.198487   36.640142\n",
       "min    10000.000000   10.000000\n",
       "25%    15000.000000   15.000000\n",
       "50%    20000.000000   25.000000\n",
       "75%    20000.000000   30.000000\n",
       "max    30000.000000  100.000000"
      ]
     },
     "execution_count": 38,
     "metadata": {},
     "output_type": "execute_result"
    }
   ],
   "source": [
    "df.describe()"
   ]
  },
  {
   "cell_type": "code",
   "execution_count": 39,
   "id": "7cd98163",
   "metadata": {},
   "outputs": [
    {
     "name": "stdout",
     "output_type": "stream",
     "text": [
      "<class 'pandas.core.frame.DataFrame'>\n",
      "RangeIndex: 5 entries, 0 to 4\n",
      "Data columns (total 4 columns):\n",
      " #   Column    Non-Null Count  Dtype \n",
      "---  ------    --------------  ----- \n",
      " 0   modelo    5 non-null      object\n",
      " 1   marca     5 non-null      object\n",
      " 2   valor     5 non-null      int64 \n",
      " 3   unidades  5 non-null      int64 \n",
      "dtypes: int64(2), object(2)\n",
      "memory usage: 288.0+ bytes\n"
     ]
    }
   ],
   "source": [
    "df.info()"
   ]
  },
  {
   "cell_type": "code",
   "execution_count": 42,
   "id": "df23905a",
   "metadata": {},
   "outputs": [
    {
     "data": {
      "text/plain": [
       "modelo      5\n",
       "marca       5\n",
       "valor       5\n",
       "unidades    5\n",
       "dtype: int64"
      ]
     },
     "execution_count": 42,
     "metadata": {},
     "output_type": "execute_result"
    }
   ],
   "source": [
    "df.count()"
   ]
  },
  {
   "cell_type": "code",
   "execution_count": 43,
   "id": "c1d85cbb",
   "metadata": {},
   "outputs": [
    {
     "data": {
      "text/html": [
       "<div>\n",
       "<style scoped>\n",
       "    .dataframe tbody tr th:only-of-type {\n",
       "        vertical-align: middle;\n",
       "    }\n",
       "\n",
       "    .dataframe tbody tr th {\n",
       "        vertical-align: top;\n",
       "    }\n",
       "\n",
       "    .dataframe thead th {\n",
       "        text-align: right;\n",
       "    }\n",
       "</style>\n",
       "<table border=\"1\" class=\"dataframe\">\n",
       "  <thead>\n",
       "    <tr style=\"text-align: right;\">\n",
       "      <th></th>\n",
       "      <th>modelo</th>\n",
       "      <th>marca</th>\n",
       "      <th>valor</th>\n",
       "      <th>unidades</th>\n",
       "    </tr>\n",
       "  </thead>\n",
       "  <tbody>\n",
       "    <tr>\n",
       "      <th>0</th>\n",
       "      <td>Uno</td>\n",
       "      <td>Fiat</td>\n",
       "      <td>10000</td>\n",
       "      <td>10</td>\n",
       "    </tr>\n",
       "    <tr>\n",
       "      <th>1</th>\n",
       "      <td>Monza</td>\n",
       "      <td>Chevrolet</td>\n",
       "      <td>20000</td>\n",
       "      <td>30</td>\n",
       "    </tr>\n",
       "    <tr>\n",
       "      <th>2</th>\n",
       "      <td>Camaro</td>\n",
       "      <td>Chevrolet</td>\n",
       "      <td>20000</td>\n",
       "      <td>100</td>\n",
       "    </tr>\n",
       "    <tr>\n",
       "      <th>3</th>\n",
       "      <td>Gol</td>\n",
       "      <td>VW</td>\n",
       "      <td>30000</td>\n",
       "      <td>25</td>\n",
       "    </tr>\n",
       "    <tr>\n",
       "      <th>4</th>\n",
       "      <td>Palio</td>\n",
       "      <td>Fiat</td>\n",
       "      <td>15000</td>\n",
       "      <td>15</td>\n",
       "    </tr>\n",
       "  </tbody>\n",
       "</table>\n",
       "</div>"
      ],
      "text/plain": [
       "   modelo      marca  valor  unidades\n",
       "0     Uno       Fiat  10000        10\n",
       "1   Monza  Chevrolet  20000        30\n",
       "2  Camaro  Chevrolet  20000       100\n",
       "3     Gol         VW  30000        25\n",
       "4   Palio       Fiat  15000        15"
      ]
     },
     "execution_count": 43,
     "metadata": {},
     "output_type": "execute_result"
    }
   ],
   "source": [
    "df"
   ]
  },
  {
   "cell_type": "code",
   "execution_count": 45,
   "id": "7e5edec9",
   "metadata": {},
   "outputs": [
    {
     "data": {
      "text/plain": [
       "marca\n",
       "Chevrolet    2\n",
       "Fiat         2\n",
       "VW           1\n",
       "Name: marca, dtype: int64"
      ]
     },
     "execution_count": 45,
     "metadata": {},
     "output_type": "execute_result"
    }
   ],
   "source": [
    "grupo = df.groupby(\"marca\")\n",
    "grupo['marca'].count()"
   ]
  },
  {
   "cell_type": "code",
   "execution_count": 46,
   "id": "ef60d28a",
   "metadata": {},
   "outputs": [
    {
     "data": {
      "text/plain": [
       "marca      modelo\n",
       "Chevrolet  Camaro    1\n",
       "           Monza     1\n",
       "Fiat       Palio     1\n",
       "           Uno       1\n",
       "VW         Gol       1\n",
       "Name: modelo, dtype: int64"
      ]
     },
     "execution_count": 46,
     "metadata": {},
     "output_type": "execute_result"
    }
   ],
   "source": [
    "grupo['modelo'].value_counts()"
   ]
  },
  {
   "cell_type": "code",
   "execution_count": 47,
   "id": "963c0c68",
   "metadata": {},
   "outputs": [
    {
     "data": {
      "text/plain": [
       "marca\n",
       "Chevrolet    20000.0\n",
       "Fiat         12500.0\n",
       "VW           30000.0\n",
       "Name: valor, dtype: float64"
      ]
     },
     "execution_count": 47,
     "metadata": {},
     "output_type": "execute_result"
    }
   ],
   "source": [
    "grupo['valor'].mean()"
   ]
  },
  {
   "cell_type": "code",
   "execution_count": 48,
   "id": "b488f4d8",
   "metadata": {},
   "outputs": [
    {
     "data": {
      "text/plain": [
       "marca\n",
       "Chevrolet    130\n",
       "Fiat          25\n",
       "VW            25\n",
       "Name: unidades, dtype: int64"
      ]
     },
     "execution_count": 48,
     "metadata": {},
     "output_type": "execute_result"
    }
   ],
   "source": [
    "grupo['unidades'].sum()"
   ]
  },
  {
   "cell_type": "code",
   "execution_count": 49,
   "id": "22b31468",
   "metadata": {},
   "outputs": [
    {
     "data": {
      "text/plain": [
       "array(['Fiat', 'Chevrolet', 'VW'], dtype=object)"
      ]
     },
     "execution_count": 49,
     "metadata": {},
     "output_type": "execute_result"
    }
   ],
   "source": [
    "df['marca'].unique()"
   ]
  },
  {
   "cell_type": "code",
   "execution_count": 50,
   "id": "ed5e3a5c",
   "metadata": {},
   "outputs": [
    {
     "data": {
      "text/plain": [
       "3"
      ]
     },
     "execution_count": 50,
     "metadata": {},
     "output_type": "execute_result"
    }
   ],
   "source": [
    "df['marca'].nunique()"
   ]
  },
  {
   "cell_type": "code",
   "execution_count": 51,
   "id": "0feb6a60",
   "metadata": {},
   "outputs": [
    {
     "data": {
      "text/plain": [
       "Fiat         2\n",
       "Chevrolet    2\n",
       "VW           1\n",
       "Name: marca, dtype: int64"
      ]
     },
     "execution_count": 51,
     "metadata": {},
     "output_type": "execute_result"
    }
   ],
   "source": [
    "df['marca'].value_counts()"
   ]
  },
  {
   "cell_type": "code",
   "execution_count": 52,
   "id": "66e485d7",
   "metadata": {},
   "outputs": [],
   "source": [
    "df1 = pd.DataFrame({'A':[1,2,3],'B':[4,5,6]},index=[19,20,21])\n",
    "df2 = pd.DataFrame({'C':['a','b','c'],'D':['d','e','f']},index=[20,21,22])"
   ]
  },
  {
   "cell_type": "markdown",
   "id": "3357c34d",
   "metadata": {},
   "source": [
    "**União de DataFrames**"
   ]
  },
  {
   "cell_type": "code",
   "execution_count": 53,
   "id": "cbd64b8c",
   "metadata": {},
   "outputs": [
    {
     "data": {
      "text/html": [
       "<div>\n",
       "<style scoped>\n",
       "    .dataframe tbody tr th:only-of-type {\n",
       "        vertical-align: middle;\n",
       "    }\n",
       "\n",
       "    .dataframe tbody tr th {\n",
       "        vertical-align: top;\n",
       "    }\n",
       "\n",
       "    .dataframe thead th {\n",
       "        text-align: right;\n",
       "    }\n",
       "</style>\n",
       "<table border=\"1\" class=\"dataframe\">\n",
       "  <thead>\n",
       "    <tr style=\"text-align: right;\">\n",
       "      <th></th>\n",
       "      <th>A</th>\n",
       "      <th>B</th>\n",
       "    </tr>\n",
       "  </thead>\n",
       "  <tbody>\n",
       "    <tr>\n",
       "      <th>19</th>\n",
       "      <td>1</td>\n",
       "      <td>4</td>\n",
       "    </tr>\n",
       "    <tr>\n",
       "      <th>20</th>\n",
       "      <td>2</td>\n",
       "      <td>5</td>\n",
       "    </tr>\n",
       "    <tr>\n",
       "      <th>21</th>\n",
       "      <td>3</td>\n",
       "      <td>6</td>\n",
       "    </tr>\n",
       "  </tbody>\n",
       "</table>\n",
       "</div>"
      ],
      "text/plain": [
       "    A  B\n",
       "19  1  4\n",
       "20  2  5\n",
       "21  3  6"
      ]
     },
     "execution_count": 53,
     "metadata": {},
     "output_type": "execute_result"
    }
   ],
   "source": [
    "df1"
   ]
  },
  {
   "cell_type": "code",
   "execution_count": 54,
   "id": "b6639480",
   "metadata": {},
   "outputs": [
    {
     "data": {
      "text/html": [
       "<div>\n",
       "<style scoped>\n",
       "    .dataframe tbody tr th:only-of-type {\n",
       "        vertical-align: middle;\n",
       "    }\n",
       "\n",
       "    .dataframe tbody tr th {\n",
       "        vertical-align: top;\n",
       "    }\n",
       "\n",
       "    .dataframe thead th {\n",
       "        text-align: right;\n",
       "    }\n",
       "</style>\n",
       "<table border=\"1\" class=\"dataframe\">\n",
       "  <thead>\n",
       "    <tr style=\"text-align: right;\">\n",
       "      <th></th>\n",
       "      <th>C</th>\n",
       "      <th>D</th>\n",
       "    </tr>\n",
       "  </thead>\n",
       "  <tbody>\n",
       "    <tr>\n",
       "      <th>20</th>\n",
       "      <td>a</td>\n",
       "      <td>d</td>\n",
       "    </tr>\n",
       "    <tr>\n",
       "      <th>21</th>\n",
       "      <td>b</td>\n",
       "      <td>e</td>\n",
       "    </tr>\n",
       "    <tr>\n",
       "      <th>22</th>\n",
       "      <td>c</td>\n",
       "      <td>f</td>\n",
       "    </tr>\n",
       "  </tbody>\n",
       "</table>\n",
       "</div>"
      ],
      "text/plain": [
       "    C  D\n",
       "20  a  d\n",
       "21  b  e\n",
       "22  c  f"
      ]
     },
     "execution_count": 54,
     "metadata": {},
     "output_type": "execute_result"
    }
   ],
   "source": [
    "df2"
   ]
  },
  {
   "cell_type": "code",
   "execution_count": 56,
   "id": "6a1531db",
   "metadata": {},
   "outputs": [
    {
     "data": {
      "text/html": [
       "<div>\n",
       "<style scoped>\n",
       "    .dataframe tbody tr th:only-of-type {\n",
       "        vertical-align: middle;\n",
       "    }\n",
       "\n",
       "    .dataframe tbody tr th {\n",
       "        vertical-align: top;\n",
       "    }\n",
       "\n",
       "    .dataframe thead th {\n",
       "        text-align: right;\n",
       "    }\n",
       "</style>\n",
       "<table border=\"1\" class=\"dataframe\">\n",
       "  <thead>\n",
       "    <tr style=\"text-align: right;\">\n",
       "      <th></th>\n",
       "      <th>A</th>\n",
       "      <th>B</th>\n",
       "      <th>C</th>\n",
       "      <th>D</th>\n",
       "    </tr>\n",
       "  </thead>\n",
       "  <tbody>\n",
       "    <tr>\n",
       "      <th>19</th>\n",
       "      <td>1.0</td>\n",
       "      <td>4.0</td>\n",
       "      <td>NaN</td>\n",
       "      <td>NaN</td>\n",
       "    </tr>\n",
       "    <tr>\n",
       "      <th>20</th>\n",
       "      <td>2.0</td>\n",
       "      <td>5.0</td>\n",
       "      <td>a</td>\n",
       "      <td>d</td>\n",
       "    </tr>\n",
       "    <tr>\n",
       "      <th>21</th>\n",
       "      <td>3.0</td>\n",
       "      <td>6.0</td>\n",
       "      <td>b</td>\n",
       "      <td>e</td>\n",
       "    </tr>\n",
       "    <tr>\n",
       "      <th>22</th>\n",
       "      <td>NaN</td>\n",
       "      <td>NaN</td>\n",
       "      <td>c</td>\n",
       "      <td>f</td>\n",
       "    </tr>\n",
       "  </tbody>\n",
       "</table>\n",
       "</div>"
      ],
      "text/plain": [
       "      A    B    C    D\n",
       "19  1.0  4.0  NaN  NaN\n",
       "20  2.0  5.0    a    d\n",
       "21  3.0  6.0    b    e\n",
       "22  NaN  NaN    c    f"
      ]
     },
     "execution_count": 56,
     "metadata": {},
     "output_type": "execute_result"
    }
   ],
   "source": [
    "pd.concat([df1,df2], axis=1)"
   ]
  },
  {
   "cell_type": "code",
   "execution_count": 60,
   "id": "e166347a",
   "metadata": {},
   "outputs": [
    {
     "data": {
      "text/html": [
       "<div>\n",
       "<style scoped>\n",
       "    .dataframe tbody tr th:only-of-type {\n",
       "        vertical-align: middle;\n",
       "    }\n",
       "\n",
       "    .dataframe tbody tr th {\n",
       "        vertical-align: top;\n",
       "    }\n",
       "\n",
       "    .dataframe thead th {\n",
       "        text-align: right;\n",
       "    }\n",
       "</style>\n",
       "<table border=\"1\" class=\"dataframe\">\n",
       "  <thead>\n",
       "    <tr style=\"text-align: right;\">\n",
       "      <th></th>\n",
       "      <th>A</th>\n",
       "      <th>B</th>\n",
       "      <th>C</th>\n",
       "      <th>D</th>\n",
       "    </tr>\n",
       "  </thead>\n",
       "  <tbody>\n",
       "    <tr>\n",
       "      <th>19</th>\n",
       "      <td>1.0</td>\n",
       "      <td>4.0</td>\n",
       "      <td>2.0</td>\n",
       "      <td>2.0</td>\n",
       "    </tr>\n",
       "    <tr>\n",
       "      <th>20</th>\n",
       "      <td>2.0</td>\n",
       "      <td>5.0</td>\n",
       "      <td>a</td>\n",
       "      <td>d</td>\n",
       "    </tr>\n",
       "    <tr>\n",
       "      <th>21</th>\n",
       "      <td>3.0</td>\n",
       "      <td>6.0</td>\n",
       "      <td>b</td>\n",
       "      <td>e</td>\n",
       "    </tr>\n",
       "    <tr>\n",
       "      <th>22</th>\n",
       "      <td>2.0</td>\n",
       "      <td>2.0</td>\n",
       "      <td>c</td>\n",
       "      <td>f</td>\n",
       "    </tr>\n",
       "  </tbody>\n",
       "</table>\n",
       "</div>"
      ],
      "text/plain": [
       "      A    B    C    D\n",
       "19  1.0  4.0  2.0  2.0\n",
       "20  2.0  5.0    a    d\n",
       "21  3.0  6.0    b    e\n",
       "22  2.0  2.0    c    f"
      ]
     },
     "execution_count": 60,
     "metadata": {},
     "output_type": "execute_result"
    }
   ],
   "source": [
    "df1.join(df2,how='outer').fillna(df1['A'].mean())"
   ]
  },
  {
   "cell_type": "markdown",
   "id": "2a617a30",
   "metadata": {},
   "source": [
    "**Filtros**"
   ]
  },
  {
   "cell_type": "code",
   "execution_count": 63,
   "id": "a32e8d2a",
   "metadata": {},
   "outputs": [],
   "source": [
    "df1['c']=[8,10,12]"
   ]
  },
  {
   "cell_type": "code",
   "execution_count": 64,
   "id": "52e48aac",
   "metadata": {},
   "outputs": [
    {
     "data": {
      "text/html": [
       "<div>\n",
       "<style scoped>\n",
       "    .dataframe tbody tr th:only-of-type {\n",
       "        vertical-align: middle;\n",
       "    }\n",
       "\n",
       "    .dataframe tbody tr th {\n",
       "        vertical-align: top;\n",
       "    }\n",
       "\n",
       "    .dataframe thead th {\n",
       "        text-align: right;\n",
       "    }\n",
       "</style>\n",
       "<table border=\"1\" class=\"dataframe\">\n",
       "  <thead>\n",
       "    <tr style=\"text-align: right;\">\n",
       "      <th></th>\n",
       "      <th>A</th>\n",
       "      <th>B</th>\n",
       "      <th>c</th>\n",
       "    </tr>\n",
       "  </thead>\n",
       "  <tbody>\n",
       "    <tr>\n",
       "      <th>19</th>\n",
       "      <td>1</td>\n",
       "      <td>4</td>\n",
       "      <td>8</td>\n",
       "    </tr>\n",
       "    <tr>\n",
       "      <th>20</th>\n",
       "      <td>2</td>\n",
       "      <td>5</td>\n",
       "      <td>10</td>\n",
       "    </tr>\n",
       "    <tr>\n",
       "      <th>21</th>\n",
       "      <td>3</td>\n",
       "      <td>6</td>\n",
       "      <td>12</td>\n",
       "    </tr>\n",
       "  </tbody>\n",
       "</table>\n",
       "</div>"
      ],
      "text/plain": [
       "    A  B   c\n",
       "19  1  4   8\n",
       "20  2  5  10\n",
       "21  3  6  12"
      ]
     },
     "execution_count": 64,
     "metadata": {},
     "output_type": "execute_result"
    }
   ],
   "source": [
    "df1\n"
   ]
  },
  {
   "cell_type": "code",
   "execution_count": 65,
   "id": "98a0cd89",
   "metadata": {},
   "outputs": [],
   "source": [
    "df1.loc[22]=[13,16,19]"
   ]
  },
  {
   "cell_type": "code",
   "execution_count": 66,
   "id": "78867a63",
   "metadata": {},
   "outputs": [
    {
     "data": {
      "text/html": [
       "<div>\n",
       "<style scoped>\n",
       "    .dataframe tbody tr th:only-of-type {\n",
       "        vertical-align: middle;\n",
       "    }\n",
       "\n",
       "    .dataframe tbody tr th {\n",
       "        vertical-align: top;\n",
       "    }\n",
       "\n",
       "    .dataframe thead th {\n",
       "        text-align: right;\n",
       "    }\n",
       "</style>\n",
       "<table border=\"1\" class=\"dataframe\">\n",
       "  <thead>\n",
       "    <tr style=\"text-align: right;\">\n",
       "      <th></th>\n",
       "      <th>A</th>\n",
       "      <th>B</th>\n",
       "      <th>c</th>\n",
       "    </tr>\n",
       "  </thead>\n",
       "  <tbody>\n",
       "    <tr>\n",
       "      <th>19</th>\n",
       "      <td>1</td>\n",
       "      <td>4</td>\n",
       "      <td>8</td>\n",
       "    </tr>\n",
       "    <tr>\n",
       "      <th>20</th>\n",
       "      <td>2</td>\n",
       "      <td>5</td>\n",
       "      <td>10</td>\n",
       "    </tr>\n",
       "    <tr>\n",
       "      <th>21</th>\n",
       "      <td>3</td>\n",
       "      <td>6</td>\n",
       "      <td>12</td>\n",
       "    </tr>\n",
       "    <tr>\n",
       "      <th>22</th>\n",
       "      <td>13</td>\n",
       "      <td>16</td>\n",
       "      <td>19</td>\n",
       "    </tr>\n",
       "  </tbody>\n",
       "</table>\n",
       "</div>"
      ],
      "text/plain": [
       "     A   B   c\n",
       "19   1   4   8\n",
       "20   2   5  10\n",
       "21   3   6  12\n",
       "22  13  16  19"
      ]
     },
     "execution_count": 66,
     "metadata": {},
     "output_type": "execute_result"
    }
   ],
   "source": [
    "df1"
   ]
  },
  {
   "cell_type": "code",
   "execution_count": 67,
   "id": "141c3a1c",
   "metadata": {},
   "outputs": [
    {
     "data": {
      "text/html": [
       "<div>\n",
       "<style scoped>\n",
       "    .dataframe tbody tr th:only-of-type {\n",
       "        vertical-align: middle;\n",
       "    }\n",
       "\n",
       "    .dataframe tbody tr th {\n",
       "        vertical-align: top;\n",
       "    }\n",
       "\n",
       "    .dataframe thead th {\n",
       "        text-align: right;\n",
       "    }\n",
       "</style>\n",
       "<table border=\"1\" class=\"dataframe\">\n",
       "  <thead>\n",
       "    <tr style=\"text-align: right;\">\n",
       "      <th></th>\n",
       "      <th>A</th>\n",
       "      <th>B</th>\n",
       "      <th>c</th>\n",
       "    </tr>\n",
       "  </thead>\n",
       "  <tbody>\n",
       "    <tr>\n",
       "      <th>21</th>\n",
       "      <td>3</td>\n",
       "      <td>6</td>\n",
       "      <td>12</td>\n",
       "    </tr>\n",
       "    <tr>\n",
       "      <th>22</th>\n",
       "      <td>13</td>\n",
       "      <td>16</td>\n",
       "      <td>19</td>\n",
       "    </tr>\n",
       "  </tbody>\n",
       "</table>\n",
       "</div>"
      ],
      "text/plain": [
       "     A   B   c\n",
       "21   3   6  12\n",
       "22  13  16  19"
      ]
     },
     "execution_count": 67,
     "metadata": {},
     "output_type": "execute_result"
    }
   ],
   "source": [
    "df1[df1['A']>2]"
   ]
  },
  {
   "cell_type": "code",
   "execution_count": 73,
   "id": "3d6fb674",
   "metadata": {},
   "outputs": [
    {
     "data": {
      "text/html": [
       "<div>\n",
       "<style scoped>\n",
       "    .dataframe tbody tr th:only-of-type {\n",
       "        vertical-align: middle;\n",
       "    }\n",
       "\n",
       "    .dataframe tbody tr th {\n",
       "        vertical-align: top;\n",
       "    }\n",
       "\n",
       "    .dataframe thead th {\n",
       "        text-align: right;\n",
       "    }\n",
       "</style>\n",
       "<table border=\"1\" class=\"dataframe\">\n",
       "  <thead>\n",
       "    <tr style=\"text-align: right;\">\n",
       "      <th></th>\n",
       "      <th>A</th>\n",
       "      <th>B</th>\n",
       "      <th>c</th>\n",
       "    </tr>\n",
       "  </thead>\n",
       "  <tbody>\n",
       "    <tr>\n",
       "      <th>22</th>\n",
       "      <td>13</td>\n",
       "      <td>16</td>\n",
       "      <td>19</td>\n",
       "    </tr>\n",
       "  </tbody>\n",
       "</table>\n",
       "</div>"
      ],
      "text/plain": [
       "     A   B   c\n",
       "22  13  16  19"
      ]
     },
     "execution_count": 73,
     "metadata": {},
     "output_type": "execute_result"
    }
   ],
   "source": [
    "df1[(df1['A']>2) & (df1['c']>15)] "
   ]
  },
  {
   "cell_type": "code",
   "execution_count": 71,
   "id": "feeebbf5",
   "metadata": {},
   "outputs": [
    {
     "data": {
      "text/html": [
       "<div>\n",
       "<style scoped>\n",
       "    .dataframe tbody tr th:only-of-type {\n",
       "        vertical-align: middle;\n",
       "    }\n",
       "\n",
       "    .dataframe tbody tr th {\n",
       "        vertical-align: top;\n",
       "    }\n",
       "\n",
       "    .dataframe thead th {\n",
       "        text-align: right;\n",
       "    }\n",
       "</style>\n",
       "<table border=\"1\" class=\"dataframe\">\n",
       "  <thead>\n",
       "    <tr style=\"text-align: right;\">\n",
       "      <th></th>\n",
       "      <th>A</th>\n",
       "      <th>B</th>\n",
       "      <th>c</th>\n",
       "    </tr>\n",
       "  </thead>\n",
       "  <tbody>\n",
       "    <tr>\n",
       "      <th>21</th>\n",
       "      <td>3</td>\n",
       "      <td>6</td>\n",
       "      <td>12</td>\n",
       "    </tr>\n",
       "  </tbody>\n",
       "</table>\n",
       "</div>"
      ],
      "text/plain": [
       "    A  B   c\n",
       "21  3  6  12"
      ]
     },
     "execution_count": 71,
     "metadata": {},
     "output_type": "execute_result"
    }
   ],
   "source": [
    "df1[df1['B'] == 6]"
   ]
  },
  {
   "cell_type": "markdown",
   "id": "97580af1",
   "metadata": {},
   "source": [
    "**Função apply**"
   ]
  },
  {
   "cell_type": "code",
   "execution_count": 74,
   "id": "7b5e7fdd",
   "metadata": {},
   "outputs": [
    {
     "data": {
      "text/html": [
       "<div>\n",
       "<style scoped>\n",
       "    .dataframe tbody tr th:only-of-type {\n",
       "        vertical-align: middle;\n",
       "    }\n",
       "\n",
       "    .dataframe tbody tr th {\n",
       "        vertical-align: top;\n",
       "    }\n",
       "\n",
       "    .dataframe thead th {\n",
       "        text-align: right;\n",
       "    }\n",
       "</style>\n",
       "<table border=\"1\" class=\"dataframe\">\n",
       "  <thead>\n",
       "    <tr style=\"text-align: right;\">\n",
       "      <th></th>\n",
       "      <th>A</th>\n",
       "      <th>B</th>\n",
       "      <th>c</th>\n",
       "    </tr>\n",
       "  </thead>\n",
       "  <tbody>\n",
       "    <tr>\n",
       "      <th>19</th>\n",
       "      <td>1</td>\n",
       "      <td>4</td>\n",
       "      <td>8</td>\n",
       "    </tr>\n",
       "    <tr>\n",
       "      <th>20</th>\n",
       "      <td>2</td>\n",
       "      <td>5</td>\n",
       "      <td>10</td>\n",
       "    </tr>\n",
       "    <tr>\n",
       "      <th>21</th>\n",
       "      <td>3</td>\n",
       "      <td>6</td>\n",
       "      <td>12</td>\n",
       "    </tr>\n",
       "    <tr>\n",
       "      <th>22</th>\n",
       "      <td>13</td>\n",
       "      <td>16</td>\n",
       "      <td>19</td>\n",
       "    </tr>\n",
       "  </tbody>\n",
       "</table>\n",
       "</div>"
      ],
      "text/plain": [
       "     A   B   c\n",
       "19   1   4   8\n",
       "20   2   5  10\n",
       "21   3   6  12\n",
       "22  13  16  19"
      ]
     },
     "execution_count": 74,
     "metadata": {},
     "output_type": "execute_result"
    }
   ],
   "source": [
    "df1"
   ]
  },
  {
   "cell_type": "code",
   "execution_count": 75,
   "id": "d4ca18ff",
   "metadata": {},
   "outputs": [
    {
     "data": {
      "text/html": [
       "<div>\n",
       "<style scoped>\n",
       "    .dataframe tbody tr th:only-of-type {\n",
       "        vertical-align: middle;\n",
       "    }\n",
       "\n",
       "    .dataframe tbody tr th {\n",
       "        vertical-align: top;\n",
       "    }\n",
       "\n",
       "    .dataframe thead th {\n",
       "        text-align: right;\n",
       "    }\n",
       "</style>\n",
       "<table border=\"1\" class=\"dataframe\">\n",
       "  <thead>\n",
       "    <tr style=\"text-align: right;\">\n",
       "      <th></th>\n",
       "      <th>A</th>\n",
       "      <th>B</th>\n",
       "      <th>c</th>\n",
       "    </tr>\n",
       "  </thead>\n",
       "  <tbody>\n",
       "    <tr>\n",
       "      <th>19</th>\n",
       "      <td>3</td>\n",
       "      <td>12</td>\n",
       "      <td>24</td>\n",
       "    </tr>\n",
       "    <tr>\n",
       "      <th>20</th>\n",
       "      <td>6</td>\n",
       "      <td>15</td>\n",
       "      <td>30</td>\n",
       "    </tr>\n",
       "    <tr>\n",
       "      <th>21</th>\n",
       "      <td>9</td>\n",
       "      <td>18</td>\n",
       "      <td>36</td>\n",
       "    </tr>\n",
       "    <tr>\n",
       "      <th>22</th>\n",
       "      <td>39</td>\n",
       "      <td>48</td>\n",
       "      <td>57</td>\n",
       "    </tr>\n",
       "  </tbody>\n",
       "</table>\n",
       "</div>"
      ],
      "text/plain": [
       "     A   B   c\n",
       "19   3  12  24\n",
       "20   6  15  30\n",
       "21   9  18  36\n",
       "22  39  48  57"
      ]
     },
     "execution_count": 75,
     "metadata": {},
     "output_type": "execute_result"
    }
   ],
   "source": [
    "df1.apply(lambda x:x*3)"
   ]
  },
  {
   "cell_type": "code",
   "execution_count": 76,
   "id": "ad820423",
   "metadata": {},
   "outputs": [
    {
     "data": {
      "text/html": [
       "<div>\n",
       "<style scoped>\n",
       "    .dataframe tbody tr th:only-of-type {\n",
       "        vertical-align: middle;\n",
       "    }\n",
       "\n",
       "    .dataframe tbody tr th {\n",
       "        vertical-align: top;\n",
       "    }\n",
       "\n",
       "    .dataframe thead th {\n",
       "        text-align: right;\n",
       "    }\n",
       "</style>\n",
       "<table border=\"1\" class=\"dataframe\">\n",
       "  <thead>\n",
       "    <tr style=\"text-align: right;\">\n",
       "      <th></th>\n",
       "      <th>A</th>\n",
       "      <th>B</th>\n",
       "      <th>c</th>\n",
       "    </tr>\n",
       "  </thead>\n",
       "  <tbody>\n",
       "    <tr>\n",
       "      <th>19</th>\n",
       "      <td>1</td>\n",
       "      <td>4</td>\n",
       "      <td>8</td>\n",
       "    </tr>\n",
       "    <tr>\n",
       "      <th>20</th>\n",
       "      <td>2</td>\n",
       "      <td>5</td>\n",
       "      <td>10</td>\n",
       "    </tr>\n",
       "    <tr>\n",
       "      <th>21</th>\n",
       "      <td>3</td>\n",
       "      <td>6</td>\n",
       "      <td>12</td>\n",
       "    </tr>\n",
       "    <tr>\n",
       "      <th>22</th>\n",
       "      <td>13</td>\n",
       "      <td>16</td>\n",
       "      <td>19</td>\n",
       "    </tr>\n",
       "  </tbody>\n",
       "</table>\n",
       "</div>"
      ],
      "text/plain": [
       "     A   B   c\n",
       "19   1   4   8\n",
       "20   2   5  10\n",
       "21   3   6  12\n",
       "22  13  16  19"
      ]
     },
     "execution_count": 76,
     "metadata": {},
     "output_type": "execute_result"
    }
   ],
   "source": [
    "df1"
   ]
  },
  {
   "cell_type": "code",
   "execution_count": 84,
   "id": "1d29f8ae",
   "metadata": {},
   "outputs": [],
   "source": [
    "def maioresCincoA(x):\n",
    "    if x > 5:\n",
    "        return True\n",
    "    else:\n",
    "        return False\n",
    "#df1['Maiores']=df1['A'].apply(maioresCincoA)\n",
    "df1['A']=df1['A'].apply(maioresCincoA)"
   ]
  },
  {
   "cell_type": "code",
   "execution_count": 85,
   "id": "7689f1a0",
   "metadata": {},
   "outputs": [
    {
     "data": {
      "text/html": [
       "<div>\n",
       "<style scoped>\n",
       "    .dataframe tbody tr th:only-of-type {\n",
       "        vertical-align: middle;\n",
       "    }\n",
       "\n",
       "    .dataframe tbody tr th {\n",
       "        vertical-align: top;\n",
       "    }\n",
       "\n",
       "    .dataframe thead th {\n",
       "        text-align: right;\n",
       "    }\n",
       "</style>\n",
       "<table border=\"1\" class=\"dataframe\">\n",
       "  <thead>\n",
       "    <tr style=\"text-align: right;\">\n",
       "      <th></th>\n",
       "      <th>A</th>\n",
       "      <th>B</th>\n",
       "      <th>c</th>\n",
       "    </tr>\n",
       "  </thead>\n",
       "  <tbody>\n",
       "    <tr>\n",
       "      <th>19</th>\n",
       "      <td>False</td>\n",
       "      <td>4</td>\n",
       "      <td>8</td>\n",
       "    </tr>\n",
       "    <tr>\n",
       "      <th>20</th>\n",
       "      <td>False</td>\n",
       "      <td>5</td>\n",
       "      <td>10</td>\n",
       "    </tr>\n",
       "    <tr>\n",
       "      <th>21</th>\n",
       "      <td>False</td>\n",
       "      <td>6</td>\n",
       "      <td>12</td>\n",
       "    </tr>\n",
       "    <tr>\n",
       "      <th>22</th>\n",
       "      <td>True</td>\n",
       "      <td>16</td>\n",
       "      <td>19</td>\n",
       "    </tr>\n",
       "  </tbody>\n",
       "</table>\n",
       "</div>"
      ],
      "text/plain": [
       "        A   B   c\n",
       "19  False   4   8\n",
       "20  False   5  10\n",
       "21  False   6  12\n",
       "22   True  16  19"
      ]
     },
     "execution_count": 85,
     "metadata": {},
     "output_type": "execute_result"
    }
   ],
   "source": [
    "df1"
   ]
  },
  {
   "cell_type": "markdown",
   "id": "458051f2",
   "metadata": {},
   "source": [
    "**Importar DataFrame**"
   ]
  },
  {
   "cell_type": "code",
   "execution_count": 91,
   "id": "cc676202",
   "metadata": {},
   "outputs": [
    {
     "data": {
      "text/html": [
       "<div>\n",
       "<style scoped>\n",
       "    .dataframe tbody tr th:only-of-type {\n",
       "        vertical-align: middle;\n",
       "    }\n",
       "\n",
       "    .dataframe tbody tr th {\n",
       "        vertical-align: top;\n",
       "    }\n",
       "\n",
       "    .dataframe thead th {\n",
       "        text-align: right;\n",
       "    }\n",
       "</style>\n",
       "<table border=\"1\" class=\"dataframe\">\n",
       "  <thead>\n",
       "    <tr style=\"text-align: right;\">\n",
       "      <th></th>\n",
       "      <th>Unnamed: 0</th>\n",
       "      <th>title</th>\n",
       "      <th>year</th>\n",
       "      <th>kind</th>\n",
       "      <th>genre</th>\n",
       "      <th>rating</th>\n",
       "      <th>vote</th>\n",
       "      <th>country</th>\n",
       "      <th>language</th>\n",
       "      <th>runtime</th>\n",
       "      <th>cast</th>\n",
       "      <th>director</th>\n",
       "      <th>composer</th>\n",
       "      <th>writer</th>\n",
       "      <th>runtimes</th>\n",
       "    </tr>\n",
       "  </thead>\n",
       "  <tbody>\n",
       "    <tr>\n",
       "      <th>0</th>\n",
       "      <td>0</td>\n",
       "      <td>Dinosaur Planet</td>\n",
       "      <td>2003.0</td>\n",
       "      <td>tv mini series</td>\n",
       "      <td>['Documentary', 'Animation', 'Family']</td>\n",
       "      <td>7.7</td>\n",
       "      <td>474.0</td>\n",
       "      <td>['United States']</td>\n",
       "      <td>['English']</td>\n",
       "      <td>['50']</td>\n",
       "      <td>['Christian Slater', 'Scott Sampson']</td>\n",
       "      <td>NaN</td>\n",
       "      <td>NaN</td>\n",
       "      <td>['Mike Carrol', 'Mike Carroll', 'Georgann Kane']</td>\n",
       "      <td>NaN</td>\n",
       "    </tr>\n",
       "    <tr>\n",
       "      <th>1</th>\n",
       "      <td>1</td>\n",
       "      <td>Character</td>\n",
       "      <td>2021.0</td>\n",
       "      <td>movie</td>\n",
       "      <td>['Crime', 'Horror', 'Thriller']</td>\n",
       "      <td>8.3</td>\n",
       "      <td>46.0</td>\n",
       "      <td>['Japan']</td>\n",
       "      <td>['Japanese']</td>\n",
       "      <td>['125']</td>\n",
       "      <td>['Masaki Suda', 'Fukase', 'Mitsuki Takahata', ...</td>\n",
       "      <td>['Akira Nagai']</td>\n",
       "      <td>['Youki Kojima']</td>\n",
       "      <td>['Takashi Nagasaki', 'Takashi Nagasaki', 'Anna...</td>\n",
       "      <td>NaN</td>\n",
       "    </tr>\n",
       "    <tr>\n",
       "      <th>2</th>\n",
       "      <td>2</td>\n",
       "      <td>Get Up and Dance!</td>\n",
       "      <td>1994.0</td>\n",
       "      <td>video movie</td>\n",
       "      <td>['Family']</td>\n",
       "      <td>8.1</td>\n",
       "      <td>18.0</td>\n",
       "      <td>['United States']</td>\n",
       "      <td>['English']</td>\n",
       "      <td>['54']</td>\n",
       "      <td>['Paula Abdul', 'Aurorah Allain', 'Bill Bohl',...</td>\n",
       "      <td>['Steve Purcell']</td>\n",
       "      <td>NaN</td>\n",
       "      <td>NaN</td>\n",
       "      <td>NaN</td>\n",
       "    </tr>\n",
       "    <tr>\n",
       "      <th>3</th>\n",
       "      <td>3</td>\n",
       "      <td>The Rise and Fall of El Chapo</td>\n",
       "      <td>2016.0</td>\n",
       "      <td>tv movie</td>\n",
       "      <td>['Documentary']</td>\n",
       "      <td>6.9</td>\n",
       "      <td>42.0</td>\n",
       "      <td>['United States']</td>\n",
       "      <td>NaN</td>\n",
       "      <td>['85']</td>\n",
       "      <td>NaN</td>\n",
       "      <td>NaN</td>\n",
       "      <td>NaN</td>\n",
       "      <td>NaN</td>\n",
       "      <td>NaN</td>\n",
       "    </tr>\n",
       "    <tr>\n",
       "      <th>4</th>\n",
       "      <td>4</td>\n",
       "      <td>Sick - IMDb</td>\n",
       "      <td>NaN</td>\n",
       "      <td>NaN</td>\n",
       "      <td>['Thriller']</td>\n",
       "      <td>NaN</td>\n",
       "      <td>NaN</td>\n",
       "      <td>['United States']</td>\n",
       "      <td>NaN</td>\n",
       "      <td>NaN</td>\n",
       "      <td>['Marc Menchaca', 'Gideon Adlon', 'Dylan Spray...</td>\n",
       "      <td>['John Hyams']</td>\n",
       "      <td>NaN</td>\n",
       "      <td>['Katelyn Crabb', 'Kevin Williamson']</td>\n",
       "      <td>NaN</td>\n",
       "    </tr>\n",
       "  </tbody>\n",
       "</table>\n",
       "</div>"
      ],
      "text/plain": [
       "   Unnamed: 0                          title    year            kind  \\\n",
       "0           0                Dinosaur Planet  2003.0  tv mini series   \n",
       "1           1                      Character  2021.0           movie   \n",
       "2           2              Get Up and Dance!  1994.0     video movie   \n",
       "3           3  The Rise and Fall of El Chapo  2016.0        tv movie   \n",
       "4           4                    Sick - IMDb     NaN             NaN   \n",
       "\n",
       "                                    genre  rating   vote            country  \\\n",
       "0  ['Documentary', 'Animation', 'Family']     7.7  474.0  ['United States']   \n",
       "1         ['Crime', 'Horror', 'Thriller']     8.3   46.0          ['Japan']   \n",
       "2                              ['Family']     8.1   18.0  ['United States']   \n",
       "3                         ['Documentary']     6.9   42.0  ['United States']   \n",
       "4                            ['Thriller']     NaN    NaN  ['United States']   \n",
       "\n",
       "       language  runtime                                               cast  \\\n",
       "0   ['English']   ['50']              ['Christian Slater', 'Scott Sampson']   \n",
       "1  ['Japanese']  ['125']  ['Masaki Suda', 'Fukase', 'Mitsuki Takahata', ...   \n",
       "2   ['English']   ['54']  ['Paula Abdul', 'Aurorah Allain', 'Bill Bohl',...   \n",
       "3           NaN   ['85']                                                NaN   \n",
       "4           NaN      NaN  ['Marc Menchaca', 'Gideon Adlon', 'Dylan Spray...   \n",
       "\n",
       "            director          composer  \\\n",
       "0                NaN               NaN   \n",
       "1    ['Akira Nagai']  ['Youki Kojima']   \n",
       "2  ['Steve Purcell']               NaN   \n",
       "3                NaN               NaN   \n",
       "4     ['John Hyams']               NaN   \n",
       "\n",
       "                                              writer runtimes  \n",
       "0   ['Mike Carrol', 'Mike Carroll', 'Georgann Kane']      NaN  \n",
       "1  ['Takashi Nagasaki', 'Takashi Nagasaki', 'Anna...      NaN  \n",
       "2                                                NaN      NaN  \n",
       "3                                                NaN      NaN  \n",
       "4              ['Katelyn Crabb', 'Kevin Williamson']      NaN  "
      ]
     },
     "execution_count": 91,
     "metadata": {},
     "output_type": "execute_result"
    }
   ],
   "source": [
    "df = pd.read_csv(\"netflix_titles.csv\", sep=',')\n",
    "df.head()"
   ]
  },
  {
   "cell_type": "code",
   "execution_count": 92,
   "id": "bbe512bd",
   "metadata": {},
   "outputs": [],
   "source": [
    "del df['Unnamed: 0']"
   ]
  },
  {
   "cell_type": "code",
   "execution_count": 93,
   "id": "79362ac3",
   "metadata": {},
   "outputs": [
    {
     "data": {
      "text/html": [
       "<div>\n",
       "<style scoped>\n",
       "    .dataframe tbody tr th:only-of-type {\n",
       "        vertical-align: middle;\n",
       "    }\n",
       "\n",
       "    .dataframe tbody tr th {\n",
       "        vertical-align: top;\n",
       "    }\n",
       "\n",
       "    .dataframe thead th {\n",
       "        text-align: right;\n",
       "    }\n",
       "</style>\n",
       "<table border=\"1\" class=\"dataframe\">\n",
       "  <thead>\n",
       "    <tr style=\"text-align: right;\">\n",
       "      <th></th>\n",
       "      <th>title</th>\n",
       "      <th>year</th>\n",
       "      <th>kind</th>\n",
       "      <th>genre</th>\n",
       "      <th>rating</th>\n",
       "      <th>vote</th>\n",
       "      <th>country</th>\n",
       "      <th>language</th>\n",
       "      <th>runtime</th>\n",
       "      <th>cast</th>\n",
       "      <th>director</th>\n",
       "      <th>composer</th>\n",
       "      <th>writer</th>\n",
       "      <th>runtimes</th>\n",
       "    </tr>\n",
       "  </thead>\n",
       "  <tbody>\n",
       "    <tr>\n",
       "      <th>0</th>\n",
       "      <td>Dinosaur Planet</td>\n",
       "      <td>2003.0</td>\n",
       "      <td>tv mini series</td>\n",
       "      <td>['Documentary', 'Animation', 'Family']</td>\n",
       "      <td>7.7</td>\n",
       "      <td>474.0</td>\n",
       "      <td>['United States']</td>\n",
       "      <td>['English']</td>\n",
       "      <td>['50']</td>\n",
       "      <td>['Christian Slater', 'Scott Sampson']</td>\n",
       "      <td>NaN</td>\n",
       "      <td>NaN</td>\n",
       "      <td>['Mike Carrol', 'Mike Carroll', 'Georgann Kane']</td>\n",
       "      <td>NaN</td>\n",
       "    </tr>\n",
       "    <tr>\n",
       "      <th>1</th>\n",
       "      <td>Character</td>\n",
       "      <td>2021.0</td>\n",
       "      <td>movie</td>\n",
       "      <td>['Crime', 'Horror', 'Thriller']</td>\n",
       "      <td>8.3</td>\n",
       "      <td>46.0</td>\n",
       "      <td>['Japan']</td>\n",
       "      <td>['Japanese']</td>\n",
       "      <td>['125']</td>\n",
       "      <td>['Masaki Suda', 'Fukase', 'Mitsuki Takahata', ...</td>\n",
       "      <td>['Akira Nagai']</td>\n",
       "      <td>['Youki Kojima']</td>\n",
       "      <td>['Takashi Nagasaki', 'Takashi Nagasaki', 'Anna...</td>\n",
       "      <td>NaN</td>\n",
       "    </tr>\n",
       "    <tr>\n",
       "      <th>2</th>\n",
       "      <td>Get Up and Dance!</td>\n",
       "      <td>1994.0</td>\n",
       "      <td>video movie</td>\n",
       "      <td>['Family']</td>\n",
       "      <td>8.1</td>\n",
       "      <td>18.0</td>\n",
       "      <td>['United States']</td>\n",
       "      <td>['English']</td>\n",
       "      <td>['54']</td>\n",
       "      <td>['Paula Abdul', 'Aurorah Allain', 'Bill Bohl',...</td>\n",
       "      <td>['Steve Purcell']</td>\n",
       "      <td>NaN</td>\n",
       "      <td>NaN</td>\n",
       "      <td>NaN</td>\n",
       "    </tr>\n",
       "    <tr>\n",
       "      <th>3</th>\n",
       "      <td>The Rise and Fall of El Chapo</td>\n",
       "      <td>2016.0</td>\n",
       "      <td>tv movie</td>\n",
       "      <td>['Documentary']</td>\n",
       "      <td>6.9</td>\n",
       "      <td>42.0</td>\n",
       "      <td>['United States']</td>\n",
       "      <td>NaN</td>\n",
       "      <td>['85']</td>\n",
       "      <td>NaN</td>\n",
       "      <td>NaN</td>\n",
       "      <td>NaN</td>\n",
       "      <td>NaN</td>\n",
       "      <td>NaN</td>\n",
       "    </tr>\n",
       "    <tr>\n",
       "      <th>4</th>\n",
       "      <td>Sick - IMDb</td>\n",
       "      <td>NaN</td>\n",
       "      <td>NaN</td>\n",
       "      <td>['Thriller']</td>\n",
       "      <td>NaN</td>\n",
       "      <td>NaN</td>\n",
       "      <td>['United States']</td>\n",
       "      <td>NaN</td>\n",
       "      <td>NaN</td>\n",
       "      <td>['Marc Menchaca', 'Gideon Adlon', 'Dylan Spray...</td>\n",
       "      <td>['John Hyams']</td>\n",
       "      <td>NaN</td>\n",
       "      <td>['Katelyn Crabb', 'Kevin Williamson']</td>\n",
       "      <td>NaN</td>\n",
       "    </tr>\n",
       "  </tbody>\n",
       "</table>\n",
       "</div>"
      ],
      "text/plain": [
       "                           title    year            kind  \\\n",
       "0                Dinosaur Planet  2003.0  tv mini series   \n",
       "1                      Character  2021.0           movie   \n",
       "2              Get Up and Dance!  1994.0     video movie   \n",
       "3  The Rise and Fall of El Chapo  2016.0        tv movie   \n",
       "4                    Sick - IMDb     NaN             NaN   \n",
       "\n",
       "                                    genre  rating   vote            country  \\\n",
       "0  ['Documentary', 'Animation', 'Family']     7.7  474.0  ['United States']   \n",
       "1         ['Crime', 'Horror', 'Thriller']     8.3   46.0          ['Japan']   \n",
       "2                              ['Family']     8.1   18.0  ['United States']   \n",
       "3                         ['Documentary']     6.9   42.0  ['United States']   \n",
       "4                            ['Thriller']     NaN    NaN  ['United States']   \n",
       "\n",
       "       language  runtime                                               cast  \\\n",
       "0   ['English']   ['50']              ['Christian Slater', 'Scott Sampson']   \n",
       "1  ['Japanese']  ['125']  ['Masaki Suda', 'Fukase', 'Mitsuki Takahata', ...   \n",
       "2   ['English']   ['54']  ['Paula Abdul', 'Aurorah Allain', 'Bill Bohl',...   \n",
       "3           NaN   ['85']                                                NaN   \n",
       "4           NaN      NaN  ['Marc Menchaca', 'Gideon Adlon', 'Dylan Spray...   \n",
       "\n",
       "            director          composer  \\\n",
       "0                NaN               NaN   \n",
       "1    ['Akira Nagai']  ['Youki Kojima']   \n",
       "2  ['Steve Purcell']               NaN   \n",
       "3                NaN               NaN   \n",
       "4     ['John Hyams']               NaN   \n",
       "\n",
       "                                              writer runtimes  \n",
       "0   ['Mike Carrol', 'Mike Carroll', 'Georgann Kane']      NaN  \n",
       "1  ['Takashi Nagasaki', 'Takashi Nagasaki', 'Anna...      NaN  \n",
       "2                                                NaN      NaN  \n",
       "3                                                NaN      NaN  \n",
       "4              ['Katelyn Crabb', 'Kevin Williamson']      NaN  "
      ]
     },
     "execution_count": 93,
     "metadata": {},
     "output_type": "execute_result"
    }
   ],
   "source": [
    "df.head()"
   ]
  },
  {
   "cell_type": "code",
   "execution_count": 94,
   "id": "0e6ca5dd",
   "metadata": {},
   "outputs": [
    {
     "data": {
      "text/html": [
       "<div>\n",
       "<style scoped>\n",
       "    .dataframe tbody tr th:only-of-type {\n",
       "        vertical-align: middle;\n",
       "    }\n",
       "\n",
       "    .dataframe tbody tr th {\n",
       "        vertical-align: top;\n",
       "    }\n",
       "\n",
       "    .dataframe thead th {\n",
       "        text-align: right;\n",
       "    }\n",
       "</style>\n",
       "<table border=\"1\" class=\"dataframe\">\n",
       "  <thead>\n",
       "    <tr style=\"text-align: right;\">\n",
       "      <th></th>\n",
       "      <th>year</th>\n",
       "      <th>rating</th>\n",
       "      <th>vote</th>\n",
       "    </tr>\n",
       "  </thead>\n",
       "  <tbody>\n",
       "    <tr>\n",
       "      <th>count</th>\n",
       "      <td>9756.000000</td>\n",
       "      <td>8949.000000</td>\n",
       "      <td>8.949000e+03</td>\n",
       "    </tr>\n",
       "    <tr>\n",
       "      <th>mean</th>\n",
       "      <td>1994.739750</td>\n",
       "      <td>6.680635</td>\n",
       "      <td>2.121821e+04</td>\n",
       "    </tr>\n",
       "    <tr>\n",
       "      <th>std</th>\n",
       "      <td>16.245087</td>\n",
       "      <td>1.285113</td>\n",
       "      <td>9.804873e+04</td>\n",
       "    </tr>\n",
       "    <tr>\n",
       "      <th>min</th>\n",
       "      <td>1905.000000</td>\n",
       "      <td>1.000000</td>\n",
       "      <td>5.000000e+00</td>\n",
       "    </tr>\n",
       "    <tr>\n",
       "      <th>25%</th>\n",
       "      <td>1989.750000</td>\n",
       "      <td>6.000000</td>\n",
       "      <td>2.830000e+02</td>\n",
       "    </tr>\n",
       "    <tr>\n",
       "      <th>50%</th>\n",
       "      <td>1999.000000</td>\n",
       "      <td>6.900000</td>\n",
       "      <td>1.535000e+03</td>\n",
       "    </tr>\n",
       "    <tr>\n",
       "      <th>75%</th>\n",
       "      <td>2003.000000</td>\n",
       "      <td>7.600000</td>\n",
       "      <td>7.570000e+03</td>\n",
       "    </tr>\n",
       "    <tr>\n",
       "      <th>max</th>\n",
       "      <td>2023.000000</td>\n",
       "      <td>9.600000</td>\n",
       "      <td>2.462087e+06</td>\n",
       "    </tr>\n",
       "  </tbody>\n",
       "</table>\n",
       "</div>"
      ],
      "text/plain": [
       "              year       rating          vote\n",
       "count  9756.000000  8949.000000  8.949000e+03\n",
       "mean   1994.739750     6.680635  2.121821e+04\n",
       "std      16.245087     1.285113  9.804873e+04\n",
       "min    1905.000000     1.000000  5.000000e+00\n",
       "25%    1989.750000     6.000000  2.830000e+02\n",
       "50%    1999.000000     6.900000  1.535000e+03\n",
       "75%    2003.000000     7.600000  7.570000e+03\n",
       "max    2023.000000     9.600000  2.462087e+06"
      ]
     },
     "execution_count": 94,
     "metadata": {},
     "output_type": "execute_result"
    }
   ],
   "source": [
    "df.describe()\n"
   ]
  },
  {
   "cell_type": "code",
   "execution_count": 95,
   "id": "4fd73856",
   "metadata": {},
   "outputs": [
    {
     "name": "stdout",
     "output_type": "stream",
     "text": [
      "<class 'pandas.core.frame.DataFrame'>\n",
      "RangeIndex: 9826 entries, 0 to 9825\n",
      "Data columns (total 14 columns):\n",
      " #   Column    Non-Null Count  Dtype  \n",
      "---  ------    --------------  -----  \n",
      " 0   title     9825 non-null   object \n",
      " 1   year      9756 non-null   float64\n",
      " 2   kind      9788 non-null   object \n",
      " 3   genre     9733 non-null   object \n",
      " 4   rating    8949 non-null   float64\n",
      " 5   vote      8949 non-null   float64\n",
      " 6   country   9161 non-null   object \n",
      " 7   language  9033 non-null   object \n",
      " 8   runtime   5916 non-null   object \n",
      " 9   cast      9482 non-null   object \n",
      " 10  director  7966 non-null   object \n",
      " 11  composer  6204 non-null   object \n",
      " 12  writer    8170 non-null   object \n",
      " 13  runtimes  2854 non-null   object \n",
      "dtypes: float64(3), object(11)\n",
      "memory usage: 1.0+ MB\n"
     ]
    }
   ],
   "source": [
    "df.info()"
   ]
  },
  {
   "cell_type": "code",
   "execution_count": 100,
   "id": "d5a6c297",
   "metadata": {},
   "outputs": [
    {
     "name": "stdout",
     "output_type": "stream",
     "text": [
      "<table border=\"1\" class=\"dataframe\">\n",
      "  <thead>\n",
      "    <tr style=\"text-align: right;\">\n",
      "      <th></th>\n",
      "      <th>title</th>\n",
      "      <th>year</th>\n",
      "      <th>kind</th>\n",
      "      <th>genre</th>\n",
      "      <th>rating</th>\n",
      "      <th>vote</th>\n",
      "      <th>country</th>\n",
      "      <th>language</th>\n",
      "      <th>runtime</th>\n",
      "      <th>cast</th>\n",
      "      <th>director</th>\n",
      "      <th>composer</th>\n",
      "      <th>writer</th>\n",
      "      <th>runtimes</th>\n",
      "    </tr>\n",
      "  </thead>\n",
      "  <tbody>\n",
      "    <tr>\n",
      "      <th>0</th>\n",
      "      <td>Dinosaur Planet</td>\n",
      "      <td>2003.0</td>\n",
      "      <td>tv mini series</td>\n",
      "      <td>['Documentary', 'Animation', 'Family']</td>\n",
      "      <td>7.7</td>\n",
      "      <td>474.0</td>\n",
      "      <td>['United States']</td>\n",
      "      <td>['English']</td>\n",
      "      <td>['50']</td>\n",
      "      <td>['Christian Slater', 'Scott Sampson']</td>\n",
      "      <td>NaN</td>\n",
      "      <td>NaN</td>\n",
      "      <td>['Mike Carrol', 'Mike Carroll', 'Georgann Kane']</td>\n",
      "      <td>NaN</td>\n",
      "    </tr>\n",
      "    <tr>\n",
      "      <th>1</th>\n",
      "      <td>Character</td>\n",
      "      <td>2021.0</td>\n",
      "      <td>movie</td>\n",
      "      <td>['Crime', 'Horror', 'Thriller']</td>\n",
      "      <td>8.3</td>\n",
      "      <td>46.0</td>\n",
      "      <td>['Japan']</td>\n",
      "      <td>['Japanese']</td>\n",
      "      <td>['125']</td>\n",
      "      <td>['Masaki Suda', 'Fukase', 'Mitsuki Takahata', 'Shidô Nakamura', 'Shun Oguri', 'Jun Hashizume', 'Hijiri Kojima', 'Yôji Matsuda', 'Ai Mikami', 'Tomu Miyazaki', 'Akiyoshi Nakao', 'Shigemitsu Ogi', 'Takashi Okabe', 'Ryushin Tei']</td>\n",
      "      <td>['Akira Nagai']</td>\n",
      "      <td>['Youki Kojima']</td>\n",
      "      <td>['Takashi Nagasaki', 'Takashi Nagasaki', 'Anna Kawahara']</td>\n",
      "      <td>NaN</td>\n",
      "    </tr>\n",
      "    <tr>\n",
      "      <th>2</th>\n",
      "      <td>Get Up and Dance!</td>\n",
      "      <td>1994.0</td>\n",
      "      <td>video movie</td>\n",
      "      <td>['Family']</td>\n",
      "      <td>8.1</td>\n",
      "      <td>18.0</td>\n",
      "      <td>['United States']</td>\n",
      "      <td>['English']</td>\n",
      "      <td>['54']</td>\n",
      "      <td>['Paula Abdul', 'Aurorah Allain', 'Bill Bohl', 'Bob Gaynor', \"Nancy O'Meara\"]</td>\n",
      "      <td>['Steve Purcell']</td>\n",
      "      <td>NaN</td>\n",
      "      <td>NaN</td>\n",
      "      <td>NaN</td>\n",
      "    </tr>\n",
      "    <tr>\n",
      "      <th>3</th>\n",
      "      <td>The Rise and Fall of El Chapo</td>\n",
      "      <td>2016.0</td>\n",
      "      <td>tv movie</td>\n",
      "      <td>['Documentary']</td>\n",
      "      <td>6.9</td>\n",
      "      <td>42.0</td>\n",
      "      <td>['United States']</td>\n",
      "      <td>NaN</td>\n",
      "      <td>['85']</td>\n",
      "      <td>NaN</td>\n",
      "      <td>NaN</td>\n",
      "      <td>NaN</td>\n",
      "      <td>NaN</td>\n",
      "      <td>NaN</td>\n",
      "    </tr>\n",
      "    <tr>\n",
      "      <th>4</th>\n",
      "      <td>Sick - IMDb</td>\n",
      "      <td>NaN</td>\n",
      "      <td>NaN</td>\n",
      "      <td>['Thriller']</td>\n",
      "      <td>NaN</td>\n",
      "      <td>NaN</td>\n",
      "      <td>['United States']</td>\n",
      "      <td>NaN</td>\n",
      "      <td>NaN</td>\n",
      "      <td>['Marc Menchaca', 'Gideon Adlon', 'Dylan Sprayberry', 'Bethlehem Million', 'Aarman Touré']</td>\n",
      "      <td>['John Hyams']</td>\n",
      "      <td>NaN</td>\n",
      "      <td>['Katelyn Crabb', 'Kevin Williamson']</td>\n",
      "      <td>NaN</td>\n",
      "    </tr>\n",
      "    <tr>\n",
      "      <th>5</th>\n",
      "      <td>8 Man</td>\n",
      "      <td>1992.0</td>\n",
      "      <td>movie</td>\n",
      "      <td>['Action', 'Sci-Fi']</td>\n",
      "      <td>5.5</td>\n",
      "      <td>93.0</td>\n",
      "      <td>['Japan']</td>\n",
      "      <td>['Japanese']</td>\n",
      "      <td>['83']</td>\n",
      "      <td>['Kai Shishido', 'Etsushi Takahashi', 'Sachiko Ayase', 'Osamu Ohtomo', 'Jô Shishido', 'Tadao Nakamaru', 'Daisuke Shima', 'Toshihide Wakamatsu', 'Mickey Curtis', 'Robert Axelrod', 'Steve Bulen', 'Richard Cansino', 'Lara Cody', 'Juliana Donald', 'Kerrigan Mahan', 'Edie Mirman', 'Mike Reynolds', 'Michael Sorich', 'Barry Stigler', 'Kirk Thornton', 'Dan Woren']</td>\n",
      "      <td>['Yasuhiro Horiuchi']</td>\n",
      "      <td>['Carole King']</td>\n",
      "      <td>['Kazumasa Hirai', 'Jirô Kuwata', 'Junko Suzuki']</td>\n",
      "      <td>NaN</td>\n",
      "    </tr>\n",
      "    <tr>\n",
      "      <th>6</th>\n",
      "      <td>What the #$*! Do We (K)now!?</td>\n",
      "      <td>2004.0</td>\n",
      "      <td>movie</td>\n",
      "      <td>['Documentary', 'Comedy', 'Drama', 'Fantasy', 'Mystery', 'Sci-Fi']</td>\n",
      "      <td>5.3</td>\n",
      "      <td>13432.0</td>\n",
      "      <td>['United States']</td>\n",
      "      <td>['English', 'German', 'Spanish']</td>\n",
      "      <td>['109']</td>\n",
      "      <td>['Marlee Matlin', 'Elaine Hendrix', 'John Ross Bowie', 'Robert Bailey Jr.', 'Barry Newman', 'Larry Brandenburg', 'Daniela Serra', 'James Langston Drake', 'Michele Mariana', 'Armin Shimerman', 'Robert Blanche', 'Pavel Mikoloski', 'Alex Rogers', 'Tin Tran', 'Leslie Taylor', 'Sherilyn Lawson', 'Mercedes Rose', 'Joelle Anthony', 'Dawnn Pavlonnis', 'Danny Bruno', 'Josh Santos', 'Kerensa Gimre', 'Heather Robertson', 'Patti Collins', 'Tammy Mischke', 'Justin Canfield', 'Gordon Grobelny', 'Brent Pendleton', 'Jonathan Cammon', 'Val Landrum', 'Kyle Lunde', 'Gloria Manon', 'Robert McKeehen', 'Eric Newsome', 'Kirk Thornton', 'Michelle Ruff', 'Lia Sargent', 'Michael Sorich', 'Steve Blum', 'Tom Fahn', 'Allison Gottfried', 'David Albert', 'Joseph Dispenza', 'Amit Goswami', 'John Hagelin', 'Stuart Hameroff', 'J.Z. Knight', 'Miceal Ledwith', 'Daniel Monti', 'Andrew Newberg', 'Candace Pert', 'Jeffrey Satinover', 'William Tiller', 'Fred Alan Wolf', 'Marsha Clark', 'William Joseph Elk III', 'Evan Jacobs', 'Jeff S. Dodge', 'Carol Stanzione', 'Casper Van Dien', 'Tara Walker']</td>\n",
      "      <td>['William Arntz', 'Betsy Chasse', 'Mark Vicente']</td>\n",
      "      <td>['Christopher Franke']</td>\n",
      "      <td>['William Arntz', 'Betsy Chasse', 'Matthew Hoffman']</td>\n",
      "      <td>NaN</td>\n",
      "    </tr>\n",
      "    <tr>\n",
      "      <th>7</th>\n",
      "      <td>Class of Nuke 'Em High Part II: Subhumanoid Meltdown</td>\n",
      "      <td>1991.0</td>\n",
      "      <td>movie</td>\n",
      "      <td>['Comedy', 'Horror', 'Sci-Fi']</td>\n",
      "      <td>4.5</td>\n",
      "      <td>2177.0</td>\n",
      "      <td>['United States']</td>\n",
      "      <td>['English']</td>\n",
      "      <td>['96']</td>\n",
      "      <td>['Brick Bronsky', 'Lisa Gaye', 'Leesa Rowland', 'Michael Kurtz', 'Scott Resnick', 'Jacki Moen', 'Robert Dawson', 'Phil Rivo', 'Erica Frank', 'Sharon E. Gardner', 'Bea Lindgren', 'Lorraine Parchment', 'Troy Fromin', 'Tyler Bowe', 'Paul Borghese', 'Amy Hilbrich', 'Brad Roth', 'Nello Scadato', 'Jean Stewart', 'Gerrard Course', 'Lindsey Dawkins', 'Darla Haun', 'Lily Hayes Kaufman', 'Jason Vance Taylor', 'Alex Pirnie', 'William J. Kulzer', 'Kaptain', 'Madison Monk', 'Greta Rubens', 'Jon Albert', 'Patricia Kaufman', 'Jerri Greene', 'Patti Williford', 'Thomas Perry', 'Wendy Burnell', 'Shane Christopher', 'Ana Debasa', 'Jesse Cole Johnson', 'Andre Lambert', 'Jeanne LeGrand', 'Julie Nine', 'Louis Ortiz', 'Glorivic Parong', 'Suzanne Solari', 'Lisa Star', 'Saint Teresa Stone', 'Billie Taylor', 'Veronica Stork', 'Elizabeth Young', 'Kristina Krofft', 'Maraya Chase', 'Sophia Orkulas', 'Traci Mann', 'Walt Kubiak', 'Martin Sokol', 'Mark Richardson', 'Diana C. Skinner', 'Sheri Belfert', 'Bonnie Clarke', 'Heather Forsyth', 'Susan Jones', 'Trinity Loren', 'Sharon Mitchell', 'Phoebe Phaigh', 'Sandy Ruthowski', 'Nicole Vasilopoulos', 'Ryan Jones', 'Andy Jones', 'John Bausch', 'Gilbran Chong', 'Charlotte Kaufman', 'Lisbeth Kaufman', 'Shanah Richardson', 'Sherie Richardson', 'Cosimo Sherman', 'Josh Greenie', 'Brent Lichman', 'Wes Lichtman', 'Rocky Sherman', 'Jessi Woodhull', 'Shelby Shepard', 'Bullet Valmont', 'Liz Ard', 'Michael Cadava', 'Corey Hawk', 'Michael Herz', 'Lloyd Kaufman', 'Cynthia Windham']</td>\n",
      "      <td>['Eric Louzil']</td>\n",
      "      <td>['Bob Mithoff']</td>\n",
      "      <td>['Lloyd Kaufman', 'Carl Morano', 'Matt Unger']</td>\n",
      "      <td>NaN</td>\n",
      "    </tr>\n",
      "    <tr>\n",
      "      <th>8</th>\n",
      "      <td>The Fighter</td>\n",
      "      <td>2010.0</td>\n",
      "      <td>movie</td>\n",
      "      <td>['Biography', 'Drama', 'Sport']</td>\n",
      "      <td>7.8</td>\n",
      "      <td>351199.0</td>\n",
      "      <td>['United States']</td>\n",
      "      <td>['English']</td>\n",
      "      <td>['116']</td>\n",
      "      <td>['Mark Wahlberg', 'Christian Bale', 'Amy Adams', 'Melissa Leo', \"Mickey O'Keefe\", 'Jack McGee', 'Melissa McMeekin', 'Bianca Hunter', 'Erica McDermott', 'Jill Quigg', 'Dendrie Taylor', \"Kate B. O'Brien\", 'Jenna Lamia', 'Frank Renzulli', 'Paul Campbell', 'Caitlin Dwyer', 'Chanty Sok', 'Ted Arcidi', 'Ross Bickell', 'Sean Malone', 'José Antonio Rivera', 'Richard Farrell', 'Matthew Muzio', 'Steven Barkhimer', 'Art Ramalho', 'Sugar Ray Leonard', 'Jackson Nicoll', 'Alison Folland', 'Sean Patrick Doherty', 'Sue Costello', 'Thomas Benton', 'Ray Greenhalge', 'Tino Kimly', 'Epifanio Melendez', 'Jeremiah Kissel', 'Sean Eklund', 'Roeun Chea', 'Brian Nguyen', 'Rikki Kleiman', \"Michael Dell'Orto\", 'Paul Locke', 'Kim Carrell', 'Colin Hamell', 'Dale Place', 'Eddie Lee Anderson', 'Joe Lupino', 'Bonnie Aarons', 'Walter Driscoll', 'Matt Russell', 'A. Joseph Denucci', 'Dicky Eklund', 'George Michael Ward', 'Dicky Eklund Jr.', 'Jack Greenhalge', 'Kevin Paige', 'David A. Ramalho Sr.', 'Ziad Akl', 'Simon Hamlin', 'Gerald Greenhalge', 'Matthew Russell', 'Tommy Eklund', 'Rita Mercier', 'Deborah Bolanger', 'Kerry Moore', 'Philip Dorn Hebert', 'Raul Vera', 'Jack Lally', 'Carlos L. Smith', 'Lee Wesley', 'Hugh Long', 'Catherine Lynn Stone', 'Eric Weinstein', 'Bo Cleary', 'Anthony Molinari', 'Peter Cunningham', 'Miguel Espino', \"Anthony 'Ace' Thomas\", 'Brian Christensen', 'Jen Weissenberg', 'Michael Buffer', 'Larry Merchant', 'Jim Lampley', 'Emanuel Steward', 'Roy Jones Jr.', 'George Foreman', 'Don Dunphy', 'Barry Ace', 'Diana Afonso', 'Charlie Alejandro', 'Mel Alejandro', 'Cindi Alex', 'Christian Alvarado', 'Clyde Anthony', 'Kt Baldassaro', 'Joseph Basile', 'Irene Doukas Behrman', 'Joseph Bianchi-Coppola', 'Brina', 'Jodie Brunelle', 'Tommy Burke', 'Ryan Burton', 'Alex Bussell', 'Todd Byron', 'Gino Cafarelli', 'Katelyn Cahill', 'Al Conti', 'Jeffrey Corazzini', 'D.W. Cormier', 'Max Cross', 'Ryan Cultrera', 'Shawn Patrick Curley', 'Tommy Dallace', 'Christopher J. Davis', 'Nicholas Davis', 'Richard DeAgazio', 'Kevin DeCoste', 'Luisa Diaz', 'Ronald Diberto', 'Shawn Doherty', 'Uke Doiron', 'James Donnelly', 'Parvinder Dosanjh', 'Dani Druz', 'Ger Duany', 'Susan Farese', 'Mugisha Feruzi', 'Shawn Fogarty', 'Evan Fonseca', 'Rich Foster', 'John Franchi', 'Dennis Jay Funny', 'Ryan Gleason', 'Albert Gornie', 'Josh Gunderson', 'London Hall', 'Lindsay Hanzl', 'Becky Burne Harvey', 'Louis Holmes', 'Frankie Imbergamo', 'Anthony Jon', 'Ken Kansky', 'Mikey Kelley', 'Bobby Kenney', 'Kimko', 'Jeffery Kincannon', 'David A. Kirsch', 'Ren Knopf', 'Ryan LaMarca', 'Pat Lambert', 'Deme Lane', 'Justin James Lang', 'Henry Laun', 'Dennis Lauricella', 'Jordan Lazieh', 'Jacqueline Levasseur', 'Sal Lizard', 'Alicia Love', 'Tim MacLean', 'Jeffrey Malick', 'Michael Marchand', 'Conan Marchi', 'Rob Marin', 'Dan Marshall', 'Brett McCabe', 'Vanessa McCaffrey', 'Tricia Clift McCrone', 'Kenn Medeiros', 'Wayne R. Miller', 'Leigh Nicole', 'Joseph Oliveira', 'Thomas Olson', 'Bernie Ongewe', 'Richard Pacheco', 'Jim Patton', 'Henry Penzi', 'Americo Presciutti', 'David Pulson', 'Dannielle Rose', 'Eric Ryan', 'Robert Sabino', 'Megan Sacco', 'Salvatore Santone', 'Victoria Saunders', 'Hester Schell', 'James Shalkoski Jr.', 'Ron Shimshilashvili', 'Joe Siriani', 'Briggon Snow', 'David Arthur Sousa', 'Kevin Stanton', 'David Struffolino', 'Ben Tanguay', 'Seamus Towle', 'Beau Turgeon', 'J.T. Turner', 'Vinnie Varone', 'Kayla Rae Vesce', \"Billy 'V' Vigeant\", 'Micky Ward', 'Lindsey Warm', 'Hunter Wilichoski', 'Josh Woolstenhulme', 'Darryl Wooten']</td>\n",
      "      <td>['David O. Russell']</td>\n",
      "      <td>['Michael Brook']</td>\n",
      "      <td>['Scott Silver', 'Paul Tamasy', 'Eric Johnson']</td>\n",
      "      <td>NaN</td>\n",
      "    </tr>\n",
      "    <tr>\n",
      "      <th>9</th>\n",
      "      <td>The Lord of the Rings: The Return of the King - Extended Edition</td>\n",
      "      <td>2019.0</td>\n",
      "      <td>episode</td>\n",
      "      <td>['Talk-Show']</td>\n",
      "      <td>NaN</td>\n",
      "      <td>NaN</td>\n",
      "      <td>['United States']</td>\n",
      "      <td>['English']</td>\n",
      "      <td>['250']</td>\n",
      "      <td>['Aaron Elliott', 'Shane Farley', 'Calvin Grubb', 'Richard Martin', 'Eric Whiteley']</td>\n",
      "      <td>NaN</td>\n",
      "      <td>NaN</td>\n",
      "      <td>NaN</td>\n",
      "      <td>NaN</td>\n",
      "    </tr>\n",
      "    <tr>\n",
      "      <th>10</th>\n",
      "      <td>Antarctica: The End of Earth - Iceberg</td>\n",
      "      <td>1999.0</td>\n",
      "      <td>episode</td>\n",
      "      <td>['Documentary', 'Family']</td>\n",
      "      <td>NaN</td>\n",
      "      <td>NaN</td>\n",
      "      <td>NaN</td>\n",
      "      <td>NaN</td>\n",
      "      <td>NaN</td>\n",
      "      <td>NaN</td>\n",
      "      <td>NaN</td>\n",
      "      <td>NaN</td>\n",
      "      <td>['George Page']</td>\n",
      "      <td>NaN</td>\n",
      "    </tr>\n",
      "    <tr>\n",
      "      <th>11</th>\n",
      "      <td>Neil Diamond: Greatest Hits Live</td>\n",
      "      <td>1988.0</td>\n",
      "      <td>video movie</td>\n",
      "      <td>['Documentary', 'Music']</td>\n",
      "      <td>8.0</td>\n",
      "      <td>81.0</td>\n",
      "      <td>['United States']</td>\n",
      "      <td>['English']</td>\n",
      "      <td>['60']</td>\n",
      "      <td>['Neil Diamond', 'Richard Bennett', 'Vince Charles', 'King Errisson', 'Tom Hensley', 'Alan E. Lindgren', 'Linda Press', 'Reinie Press', 'Doug Rhone', 'Ronnie Tutt']</td>\n",
      "      <td>['Dwight Hemion', 'Peter Israelson']</td>\n",
      "      <td>NaN</td>\n",
      "      <td>['Kenny Solms', 'Ann Elder', 'Toem Perew']</td>\n",
      "      <td>NaN</td>\n",
      "    </tr>\n",
      "    <tr>\n",
      "      <th>12</th>\n",
      "      <td>7 Seconds</td>\n",
      "      <td>2005.0</td>\n",
      "      <td>video movie</td>\n",
      "      <td>['Action', 'Comedy', 'Crime', 'Thriller']</td>\n",
      "      <td>4.8</td>\n",
      "      <td>7153.0</td>\n",
      "      <td>['United Kingdom', 'Romania', 'Switzerland', 'United States']</td>\n",
      "      <td>['English']</td>\n",
      "      <td>['96']</td>\n",
      "      <td>['Wesley Snipes', 'Tamzin Outhwaite', 'Deobia Oparei', 'Georgina Rylance', 'Pete Lee-Wilson', 'Serge Soric', 'Andrei Ionescu', 'Elias Ferkin', 'Bogdan Farkas', 'Tomi Cristin', 'Adrian Lukis', 'Stephen Boxer', 'Adrian Pintea', 'Corey Johnson', 'George Anton', 'Tamer Hassan', 'Lisa Lovbrand', 'Dan Badarau', 'William Armstrong', 'Martin Wheeler', 'Warren Derosa', 'Vasile Albinet', 'Zoltan Butuc', 'Radu Bânzaru', 'Florian Ghimpu', 'Hawk Younkins']</td>\n",
      "      <td>['Simon Fellows']</td>\n",
      "      <td>['Barry Taylor', 'Neal Acree']</td>\n",
      "      <td>['Martin Wheeler']</td>\n",
      "      <td>NaN</td>\n",
      "    </tr>\n",
      "    <tr>\n",
      "      <th>13</th>\n",
      "      <td>By Dawn's Early Light</td>\n",
      "      <td>1990.0</td>\n",
      "      <td>tv movie</td>\n",
      "      <td>['Action', 'Drama', 'Thriller']</td>\n",
      "      <td>7.1</td>\n",
      "      <td>2898.0</td>\n",
      "      <td>['United States']</td>\n",
      "      <td>['English', 'Russian']</td>\n",
      "      <td>['100']</td>\n",
      "      <td>['Powers Boothe', 'Rebecca De Mornay', 'James Earl Jones', 'Martin Landau', 'Darren McGavin', 'Rip Torn', 'Jeffrey DeMunn', 'Peter MacNicol', 'Glenn Withrow', 'Ronald William Lawrence', 'Kieran Mulroney', 'Nicolas Coster', 'Ken Jenkins', 'Randal Patrick', 'Daniel Benzali', \"Robert O'Reilly\", 'Annabella Price', 'Ann Gillespie', 'Glenn Morshower', 'Dana Kimmell', 'Jon Paul Steuer', 'Danielle von Zerneck', 'Katherine Cortez', 'Jon Cedar', 'Paul Tompkins', 'Tony Rayner', 'Richard Speight Jr.', 'T.R. Marino', 'Steve Eastin', 'Steve Rankin', 'Mike Gomez', 'Scott Trost', 'Pat Skipper', 'Adrian Ricard', 'Douglas Tolbert', 'Bill Moynihan', 'Dagmar Stansova', 'Ray Nazzari', 'Richard Assad', 'Andrew Divoff']</td>\n",
      "      <td>['Jack Sholder']</td>\n",
      "      <td>['Trevor Jones']</td>\n",
      "      <td>['William Prochnau', 'Bruce Gilbert']</td>\n",
      "      <td>NaN</td>\n",
      "    </tr>\n",
      "    <tr>\n",
      "      <th>14</th>\n",
      "      <td>Seeta Aur Geeta</td>\n",
      "      <td>1972.0</td>\n",
      "      <td>movie</td>\n",
      "      <td>['Adventure', 'Comedy', 'Drama', 'Family', 'Musical', 'Romance']</td>\n",
      "      <td>6.8</td>\n",
      "      <td>1818.0</td>\n",
      "      <td>['India']</td>\n",
      "      <td>['Hindi']</td>\n",
      "      <td>['162']</td>\n",
      "      <td>['Dharmendra', 'Sanjeev Kumar', 'Hema Malini', 'Manorama', 'Pratima Devi', 'Satyendra Kapoor', 'Kamal Kapoor', 'Ratnamala', 'Radhika Rani', 'Honey Irani', 'Dev Kishan', 'Alankar Joshi', 'Roopesh Kumar', 'Keshav Rana', 'Mushtaq Merchant', 'Deepak', 'M.B. Shetty', 'Suresh', 'Master Ravi', 'Abhi Bhattacharya', 'Asit Kumar Sen', 'Dulari', 'Asrani', 'Ashoo', 'Harbans Darshan M. Arora', 'Ravi Kumar', 'Mamaji', 'Surendra Rahi', 'Yasmin']</td>\n",
      "      <td>['Ramesh Sippy']</td>\n",
      "      <td>['Rahul Dev Burman']</td>\n",
      "      <td>['Javed Akhtar', 'Javed Akhtar', 'Satish Bhatnagar']</td>\n",
      "      <td>NaN</td>\n",
      "    </tr>\n",
      "    <tr>\n",
      "      <th>15</th>\n",
      "      <td>Strange Relations</td>\n",
      "      <td>2001.0</td>\n",
      "      <td>tv movie</td>\n",
      "      <td>['Drama', 'Comedy']</td>\n",
      "      <td>7.6</td>\n",
      "      <td>768.0</td>\n",
      "      <td>['United Kingdom', 'United States']</td>\n",
      "      <td>['English']</td>\n",
      "      <td>['120']</td>\n",
      "      <td>['Paul Reiser', 'Amber Sealey', 'Lachele Carl', 'George Wendt', 'Catherine Porter', 'Todd Boyce', 'Olympia Dukakis', 'Nicola Barnfield', 'Mary Cunningham', 'Julie Walters', 'Amy Robbins', 'Gregory Fossard', 'Rowan Humphries', 'Tony Maudsley', 'Suzanne Hitchmough', 'Georgina Smith', 'Ricky Tomlinson', 'Ian Puleston-Davies', 'Christopher Wright', 'Marcel Vormawah-Jones', 'Lee Gilbert', 'Kenny Thompson', 'Terry Gilbert', 'David Heath', 'Stephanie Roscoe', 'Marie Higham', 'Gareth Turtle', 'Sarah Baxendale', 'Tim Kazurinsky', 'Mark Lawrence']</td>\n",
      "      <td>['Paul Seed']</td>\n",
      "      <td>['Rupert Gregson-Williams']</td>\n",
      "      <td>['Tim Kazurinsky']</td>\n",
      "      <td>NaN</td>\n",
      "    </tr>\n",
      "    <tr>\n",
      "      <th>16</th>\n",
      "      <td>Sesame Street Presents: The Street We Live On</td>\n",
      "      <td>2004.0</td>\n",
      "      <td>episode</td>\n",
      "      <td>['Animation', 'Adventure', 'Comedy', 'Family', 'Fantasy', 'Music']</td>\n",
      "      <td>7.2</td>\n",
      "      <td>67.0</td>\n",
      "      <td>['United States']</td>\n",
      "      <td>['English', 'Spanish']</td>\n",
      "      <td>['55']</td>\n",
      "      <td>['Sonia Manzano', 'Alan Muraoka', 'Roscoe Orman', 'Alison Bartlett', 'Emilio Delgado', 'Bob McGrath', 'Loretta Long', 'Desiree Casado', 'Olamide Faison', 'Caroll Spinney', 'Fran Brill', 'Kevin Clash', 'Jerry Nelson', 'Carmen Osbahr', 'Martin P. Robinson', 'David Rudman', 'Pam Arciero', 'Lisa Buckley', 'Bruce Connelly', \"Stephanie D'Abruzzo\", 'Eric Jacobson', 'Jennifer Barnhart', 'Jim Martin', 'Joey Mazzarino', 'John Tartaglia', 'Matt Vogel', 'Bryant Young', 'Steve Whitmire', 'Frank Oz', 'Christopher Cerf', 'Jim Thurman', 'Chris Becker', 'Harry Belafonte', 'Tony Bennett', 'Peter Buck', 'Northern Calloway', 'Anthony Daniels', 'Savion Glover', 'Whoopi Goldberg', 'Craig Good', 'Brian Gore', 'Seth Green', 'Jim Henson', 'Richard Hunt', 'Bill Irwin', 'Norah Jones', 'Madeline Kahn', 'Larry King', 'Will Lee', 'Bud Luckey', 'Paul McGinnis', 'Phil McGraw', 'Mike Mills', 'Mackenzie Milone', 'Miles Orman', 'Queen Latifah', 'Alaina Reed-Hall', 'Doris Roberts', 'Matt Robinson', 'Michael Stipe', 'Ruben Studdard', 'Lily Tomlin', 'William Wegman', 'John Williams III']</td>\n",
      "      <td>['Kevin Clash', 'Ken Diego', 'Victor DiNapoli']</td>\n",
      "      <td>NaN</td>\n",
      "      <td>['Molly Boylan', 'Annie Evans', 'Christine Ferraro']</td>\n",
      "      <td>NaN</td>\n",
      "    </tr>\n",
      "    <tr>\n",
      "      <th>17</th>\n",
      "      <td>Lilo and Stitch</td>\n",
      "      <td>2012.0</td>\n",
      "      <td>episode</td>\n",
      "      <td>['Documentary', 'Short']</td>\n",
      "      <td>7.2</td>\n",
      "      <td>22.0</td>\n",
      "      <td>NaN</td>\n",
      "      <td>NaN</td>\n",
      "      <td>['4']</td>\n",
      "      <td>['Doug Walker']</td>\n",
      "      <td>['Doug Walker']</td>\n",
      "      <td>NaN</td>\n",
      "      <td>['Doug Walker', 'Doug Walker']</td>\n",
      "      <td>NaN</td>\n",
      "    </tr>\n",
      "    <tr>\n",
      "      <th>18</th>\n",
      "      <td>Boycott</td>\n",
      "      <td>2001.0</td>\n",
      "      <td>tv movie</td>\n",
      "      <td>['Drama', 'History']</td>\n",
      "      <td>7.2</td>\n",
      "      <td>901.0</td>\n",
      "      <td>['United States']</td>\n",
      "      <td>['English']</td>\n",
      "      <td>['118']</td>\n",
      "      <td>['Jeffrey Wright', 'Terrence Howard', 'CCH Pounder', 'Carmen Ejogo', 'Reg E. Cathey', 'Brent Jennings', 'Iris Little Thomas', 'Shawn Michael Howard', 'Erik Dellums', 'Mike Hodge', 'Whitman Mayo', 'Walter Franks', 'Mert Hatfield', 'Tom Nowicki', 'Danny Nelson', 'E. Roger Mitchell', 'Heather Salmon', 'Clark Johnson', 'Jack Martin', 'Crystal Garrett', 'Thomas Jefferson Byrd', 'James Bigwood', 'Freda Scott Giles', 'Schveka Cooper-Brown', 'Ralph David Abernathy IV', 'Dan Biggers', 'Frank Hoyt Taylor', 'Toiya Thimbe Prather', 'Willy Andralliski', 'A.J. Jerrick', 'Sandra Ellis Lafferty', 'Ron Leggett', 'Ray Stoney', 'Lee Roy Giles', 'Elizabeth Omilami', 'Deborah Duke', 'Ginnie Randall', 'Robert C. Treveiler', 'Steve Coulter', 'Earl Potter', 'Michelle Benajmin-Patillo', 'Von Coulter', 'Omar J. Dorsey', 'Angela Elayne Gibbs', 'Geoffrey Williams', 'Willie Tennyson', 'Gerald Brown', 'James Mayberry', 'Richie Dye', 'Whitt Brantley', 'David Dwyer', 'Jeff Braun', 'Dolan Wilson', 'Lavon Lacey', 'James W. Holland', 'Janell McLeod', 'Aaron Neville', 'Heath Gunn', 'Sherri L. Walker', 'Patricia Gonzales', 'Molly Johnson', 'Ronald Elmer Johnson Jr.', 'Aja Kendall', 'L. Warren Young', 'Marion Nelson', 'Jeffrey Pratt Gordon', 'Darwin T. Hobbs', 'Cassi Davis', 'Fred D. Gray', 'Kenric Richardson', 'Tracey Wootson', 'Edith Ivey', 'Sylvester Jenkins', 'Bill Erwin', 'Shannon Welles', 'Ken Sands', 'Marion Guyot', 'Dwayne Boyd', 'Russell Durham Comegys', 'GlenNeta Griffin', 'Bernard Holyfield', 'Ted Huckabee', 'Rick Kamen', 'Robert M. Perez', 'Theodore Perkins', 'Ernest Peterson', 'Xavier Rivers', 'Gloria Sauve', 'Sherri ScottNovoa', 'Jim Suss', 'Joe Walsh', 'Steve Warren']</td>\n",
      "      <td>['Clark Johnson']</td>\n",
      "      <td>['Joseph Vitarelli']</td>\n",
      "      <td>['Stewart Burns', 'Herman Daniel Farrell', 'Timothy J. Sexton']</td>\n",
      "      <td>NaN</td>\n",
      "    </tr>\n",
      "    <tr>\n",
      "      <th>19</th>\n",
      "      <td>Meat Loaf: Bat Out of Hell</td>\n",
      "      <td>1999.0</td>\n",
      "      <td>episode</td>\n",
      "      <td>['Documentary', 'Music']</td>\n",
      "      <td>7.7</td>\n",
      "      <td>286.0</td>\n",
      "      <td>['United States']</td>\n",
      "      <td>['English']</td>\n",
      "      <td>['58']</td>\n",
      "      <td>['Meat Loaf', 'Jim Steinman', 'Karla DeVito', 'Max Weinberg', 'Todd Rundgren', 'Rory Dodd', 'David Sonenberg', 'Ellen Foley', 'Kasim Sulton']</td>\n",
      "      <td>['Bob Smeaton']</td>\n",
      "      <td>NaN</td>\n",
      "      <td>NaN</td>\n",
      "      <td>NaN</td>\n",
      "    </tr>\n",
      "  </tbody>\n",
      "</table>\n"
     ]
    }
   ],
   "source": [
    "print (df.head(20).to_html()) "
   ]
  },
  {
   "cell_type": "code",
   "execution_count": 1,
   "id": "74263da0",
   "metadata": {},
   "outputs": [
    {
     "ename": "NameError",
     "evalue": "name 'df' is not defined",
     "output_type": "error",
     "traceback": [
      "\u001b[1;31m---------------------------------------------------------------------------\u001b[0m",
      "\u001b[1;31mNameError\u001b[0m                                 Traceback (most recent call last)",
      "\u001b[1;32m~\\AppData\\Local\\Temp/ipykernel_10296/19081439.py\u001b[0m in \u001b[0;36m<module>\u001b[1;34m\u001b[0m\n\u001b[1;32m----> 1\u001b[1;33m \u001b[0mdf\u001b[0m\u001b[1;33m[\u001b[0m\u001b[0mdf\u001b[0m\u001b[1;33m[\u001b[0m\u001b[1;34m'country'\u001b[0m\u001b[1;33m]\u001b[0m\u001b[1;33m==\u001b[0m\u001b[1;34m'Brazil'\u001b[0m\u001b[1;33m]\u001b[0m\u001b[1;33m.\u001b[0m\u001b[0mhead\u001b[0m\u001b[1;33m(\u001b[0m\u001b[1;36m20\u001b[0m\u001b[1;33m)\u001b[0m \u001b[1;33m.\u001b[0m\u001b[0mto_html\u001b[0m\u001b[1;33m(\u001b[0m\u001b[1;34m'netflix.html'\u001b[0m\u001b[1;33m)\u001b[0m\u001b[1;33m\u001b[0m\u001b[1;33m\u001b[0m\u001b[0m\n\u001b[0m",
      "\u001b[1;31mNameError\u001b[0m: name 'df' is not defined"
     ]
    }
   ],
   "source": [
    "df[df['country']=='Brazil'].head(20) .to_html('netflix.html')"
   ]
  },
  {
   "cell_type": "code",
   "execution_count": 8,
   "id": "4029e148",
   "metadata": {},
   "outputs": [
    {
     "name": "stdout",
     "output_type": "stream",
     "text": [
      "Requirement already satisfied: sqlalchemy in c:\\users\\helio\\appdata\\local\\programs\\python\\python39\\lib\\site-packages (1.4.26)\n",
      "Requirement already satisfied: greenlet!=0.4.17 in c:\\users\\helio\\appdata\\local\\programs\\python\\python39\\lib\\site-packages (from sqlalchemy) (1.1.2)\n"
     ]
    }
   ],
   "source": [
    "!pip install sqlalchemy"
   ]
  },
  {
   "cell_type": "code",
   "execution_count": 9,
   "id": "dcbb1ea9",
   "metadata": {},
   "outputs": [
    {
     "name": "stdout",
     "output_type": "stream",
     "text": [
      "Requirement already satisfied: pymysql in c:\\users\\helio\\appdata\\local\\programs\\python\\python39\\lib\\site-packages (1.0.2)\n"
     ]
    }
   ],
   "source": [
    "!pip install pymysql"
   ]
  },
  {
   "cell_type": "code",
   "execution_count": 10,
   "id": "0553bb82",
   "metadata": {},
   "outputs": [
    {
     "name": "stdout",
     "output_type": "stream",
     "text": [
      "Collecting lxml\n",
      "  Using cached lxml-4.6.3-cp39-cp39-win_amd64.whl (3.5 MB)\n",
      "Installing collected packages: lxml\n",
      "Successfully installed lxml-4.6.3\n"
     ]
    }
   ],
   "source": [
    "!pip install lxml\n"
   ]
  },
  {
   "cell_type": "code",
   "execution_count": 11,
   "id": "a57a3e5e",
   "metadata": {},
   "outputs": [],
   "source": [
    "from sqlalchemy import create_engine\n",
    "import pymysql"
   ]
  },
  {
   "cell_type": "code",
   "execution_count": null,
   "id": "5366955b",
   "metadata": {},
   "outputs": [],
   "source": [
    "db_connection = create_engine(\"mysql+pymysql://root:@localhost:3306/wef\")\n",
    "df = pd.read_sql('select * from posts',con=db_connection)\n",
    "df[df['Id']==42].head()"
   ]
  },
  {
   "cell_type": "code",
   "execution_count": 12,
   "id": "ca057444",
   "metadata": {},
   "outputs": [
    {
     "name": "stdout",
     "output_type": "stream",
     "text": [
      "Collecting openpyxl\n",
      "  Downloading openpyxl-3.0.9-py2.py3-none-any.whl (242 kB)\n",
      "Collecting et-xmlfile\n",
      "  Downloading et_xmlfile-1.1.0-py3-none-any.whl (4.7 kB)\n",
      "Installing collected packages: et-xmlfile, openpyxl\n",
      "Successfully installed et-xmlfile-1.1.0 openpyxl-3.0.9\n"
     ]
    }
   ],
   "source": [
    "!pip install openpyxl"
   ]
  },
  {
   "cell_type": "code",
   "execution_count": 13,
   "id": "c27eb748",
   "metadata": {},
   "outputs": [
    {
     "ename": "NameError",
     "evalue": "name 'df' is not defined",
     "output_type": "error",
     "traceback": [
      "\u001b[1;31m---------------------------------------------------------------------------\u001b[0m",
      "\u001b[1;31mNameError\u001b[0m                                 Traceback (most recent call last)",
      "\u001b[1;32m~\\AppData\\Local\\Temp/ipykernel_10296/3672300022.py\u001b[0m in \u001b[0;36m<module>\u001b[1;34m\u001b[0m\n\u001b[1;32m----> 1\u001b[1;33m \u001b[0mdf\u001b[0m\u001b[1;33m.\u001b[0m\u001b[0mto_excel\u001b[0m\u001b[1;33m(\u001b[0m\u001b[1;34m'db.xlsx'\u001b[0m\u001b[1;33m)\u001b[0m\u001b[1;33m\u001b[0m\u001b[1;33m\u001b[0m\u001b[0m\n\u001b[0m",
      "\u001b[1;31mNameError\u001b[0m: name 'df' is not defined"
     ]
    }
   ],
   "source": [
    "df.to_excel('db.xlsx')"
   ]
  },
  {
   "cell_type": "markdown",
   "id": "796c8c59",
   "metadata": {},
   "source": [
    "**Plotagem de dados**"
   ]
  },
  {
   "cell_type": "code",
   "execution_count": null,
   "id": "fa4a1b3c",
   "metadata": {},
   "outputs": [],
   "source": []
  }
 ],
 "metadata": {
  "kernelspec": {
   "display_name": "Python 3 (ipykernel)",
   "language": "python",
   "name": "python3"
  },
  "language_info": {
   "codemirror_mode": {
    "name": "ipython",
    "version": 3
   },
   "file_extension": ".py",
   "mimetype": "text/x-python",
   "name": "python",
   "nbconvert_exporter": "python",
   "pygments_lexer": "ipython3",
   "version": "3.9.7"
  }
 },
 "nbformat": 4,
 "nbformat_minor": 5
}
